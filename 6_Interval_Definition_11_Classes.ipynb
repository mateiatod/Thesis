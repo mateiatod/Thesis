{
  "nbformat": 4,
  "nbformat_minor": 0,
  "metadata": {
    "colab": {
      "provenance": []
    },
    "kernelspec": {
      "name": "python3",
      "display_name": "Python 3"
    },
    "language_info": {
      "name": "python"
    }
  },
  "cells": [
    {
      "cell_type": "code",
      "execution_count": null,
      "metadata": {
        "id": "llr_SBwHhvSn",
        "colab": {
          "base_uri": "https://localhost:8080/"
        },
        "outputId": "dd910ab9-086e-4404-ecda-c2bdcf8e1826"
      },
      "outputs": [
        {
          "output_type": "stream",
          "name": "stdout",
          "text": [
            "Mounted at /content/drive\n"
          ]
        }
      ],
      "source": [
        "from keras.datasets import mnist\n",
        "from keras.models import Sequential\n",
        "from keras.layers import Dense\n",
        "from keras.callbacks import LambdaCallback\n",
        "from keras import backend as K\n",
        "from keras import activations\n",
        "import keras\n",
        "import numpy as np\n",
        "from keras.datasets import mnist\n",
        "from keras.utils import to_categorical\n",
        "from keras.callbacks import Callback\n",
        "from scipy.stats import pearsonr, spearmanr\n",
        "from google.colab import drive\n",
        "import matplotlib.pyplot as plt\n",
        "drive.mount('/content/drive')"
      ]
    },
    {
      "cell_type": "code",
      "source": [
        "# Load arrays from Google Drive\n",
        "X_train = np.load('/content/drive/My Drive/X_train_new.npy')\n",
        "y_train = np.load('/content/drive/My Drive/y_train_new.npy')\n",
        "X_test = np.load('/content/drive/My Drive/X_test_new.npy')\n",
        "y_test = np.load('/content/drive/My Drive/y_test_new.npy')"
      ],
      "metadata": {
        "id": "QkRd7PIhh_QC"
      },
      "execution_count": null,
      "outputs": []
    },
    {
      "cell_type": "code",
      "source": [
        "model = Sequential()\n",
        "model.add(Dense(128, activation='relu', input_shape=(784,)))\n",
        "model.add(Dense(128, activation='relu', input_shape=(128,)))\n",
        "model.add(Dense(11, activation='softmax'))\n",
        "\n",
        "model.compile(optimizer='adam', loss='categorical_crossentropy', metrics=['accuracy'])"
      ],
      "metadata": {
        "id": "jpxjfazSiBII"
      },
      "execution_count": null,
      "outputs": []
    },
    {
      "cell_type": "code",
      "source": [
        "ratio = 1\n",
        "ds_size = len(X_train)  * ratio\n",
        "batchsize_train = 128\n",
        "dense_size = 128\n",
        "n_batches = int(ds_size // batchsize_train)\n",
        "n_epochs = 6\n",
        "n_layers = 2"
      ],
      "metadata": {
        "id": "HPCVRlJFb-G9"
      },
      "execution_count": null,
      "outputs": []
    },
    {
      "cell_type": "code",
      "source": [
        "shapes = (n_batches, batchsize_train, dense_size)\n",
        "layer_activations = []\n",
        "for _ in range(n_layers):\n",
        "  epochs = []\n",
        "  for i in range(n_epochs):\n",
        "    epochs.append(np.empty(shapes))\n",
        "  layer_activations.append(epochs)\n",
        "model_output = []\n",
        "weights = []\n",
        "\n",
        "class CustomCallback(Callback):\n",
        "    def __init__(self):\n",
        "        super(CustomCallback, self).__init__()\n",
        "        for i in range(n_layers):\n",
        "          model_output.append(model.layers[i].output)\n",
        "        self.ok = False #used for testing\n",
        "\n",
        "    def on_epoch_begin(self, epoch, logs=None):\n",
        "      self.neuron_activations = []\n",
        "      for i in range(n_layers):\n",
        "        self.neuron_activations.append(layer_activations[i][epoch])\n",
        "      if epoch == 0: ## replace 0 with the epoch you wanna test\n",
        "        self.ok = True\n",
        "\n",
        "    def on_batch_begin(self, batch, logs=None):\n",
        "        get_activations = K.function([model.layers[0].input], model_output)\n",
        "        if batch != (n_batches):  # we ignore the last, uncompleted batch so we can have a matrix\n",
        "          get_act = get_activations([X_train[(batch) * batchsize_train: (batch + 1) * batchsize_train]])\n",
        "          for i in range(n_layers):\n",
        "            activations = get_act[i]\n",
        "            self.neuron_activations[i][batch]= np.array(activations)\n",
        "\n",
        "\n",
        "custom_callback = CustomCallback()\n",
        "\n",
        "model.fit(X_train, y_train, epochs=n_epochs, batch_size=batchsize_train, callbacks=[custom_callback])\n"
      ],
      "metadata": {
        "colab": {
          "base_uri": "https://localhost:8080/"
        },
        "id": "jJ3mLLgZiQfY",
        "outputId": "e8895fa9-a0ff-4635-9ace-aa7ec5ac262f"
      },
      "execution_count": null,
      "outputs": [
        {
          "output_type": "stream",
          "name": "stdout",
          "text": [
            "Epoch 1/6\n",
            "  4/516 [..............................] - ETA: 11s - loss: 2.2391 - accuracy: 0.2480  "
          ]
        },
        {
          "output_type": "stream",
          "name": "stderr",
          "text": [
            "WARNING:tensorflow:Callback method `on_train_batch_begin` is slow compared to the batch time (batch time: 0.0070s vs `on_train_batch_begin` time: 0.0428s). Check your callbacks.\n"
          ]
        },
        {
          "output_type": "stream",
          "name": "stdout",
          "text": [
            "516/516 [==============================] - 9s 15ms/step - loss: 0.2963 - accuracy: 0.9162\n",
            "Epoch 2/6\n",
            "516/516 [==============================] - 8s 15ms/step - loss: 0.1135 - accuracy: 0.9663\n",
            "Epoch 3/6\n",
            "516/516 [==============================] - 7s 13ms/step - loss: 0.0784 - accuracy: 0.9761\n",
            "Epoch 4/6\n",
            "516/516 [==============================] - 8s 15ms/step - loss: 0.0576 - accuracy: 0.9827\n",
            "Epoch 5/6\n",
            "516/516 [==============================] - 7s 13ms/step - loss: 0.0449 - accuracy: 0.9857\n",
            "Epoch 6/6\n",
            "516/516 [==============================] - 8s 15ms/step - loss: 0.0354 - accuracy: 0.9885\n"
          ]
        },
        {
          "output_type": "execute_result",
          "data": {
            "text/plain": [
              "<keras.src.callbacks.History at 0x7ebef2b26710>"
            ]
          },
          "metadata": {},
          "execution_count": 5
        }
      ]
    },
    {
      "cell_type": "markdown",
      "source": [
        "Properly arrange list"
      ],
      "metadata": {
        "id": "HgIW3xoldCW6"
      }
    },
    {
      "cell_type": "code",
      "source": [
        "neuron_activations = []\n",
        "for j in range(n_layers):\n",
        "  for i in range(n_epochs):\n",
        "    layer_activations[j][i] = np.reshape(layer_activations[j][i], (n_batches * batchsize_train, dense_size ))\n",
        "    layer_activations[j][i] = layer_activations[j][i].T.reshape((dense_size,-1))\n",
        "  neuron_activations.append(np.hstack(layer_activations[j]))\n"
      ],
      "metadata": {
        "id": "-ERpISfWkVd0"
      },
      "execution_count": null,
      "outputs": []
    },
    {
      "cell_type": "markdown",
      "source": [
        "We now compute the ranges of the neurons"
      ],
      "metadata": {
        "id": "DvZh9b4Go_qk"
      }
    },
    {
      "cell_type": "code",
      "source": [
        "ranges = np.empty((n_layers,dense_size,2))\n",
        "for layer in range(n_layers):\n",
        "  for i in range(dense_size):\n",
        "    ranges[layer][i][0] = np.min(neuron_activations[layer][i])\n",
        "    ranges[layer][i][1] = np.max(neuron_activations[layer][i])"
      ],
      "metadata": {
        "id": "miFCqofkU_5l"
      },
      "execution_count": null,
      "outputs": []
    },
    {
      "cell_type": "markdown",
      "source": [
        "Create random list to get out of range"
      ],
      "metadata": {
        "id": "v4kLH-EPmeBB"
      }
    },
    {
      "cell_type": "code",
      "source": [
        "random_X_test = np.random.choice([-1., 1.], size=(11000, 784), p=[0.5, 0.5])\n",
        "random_X_test += np.random.rand(11000, 784)  # Add random values between 0 and 1"
      ],
      "metadata": {
        "id": "ZRhYfLyImdi2"
      },
      "execution_count": null,
      "outputs": []
    },
    {
      "cell_type": "markdown",
      "source": [
        "Get activations from tests and Nonimage tests"
      ],
      "metadata": {
        "id": "RUQ09B_byBFe"
      }
    },
    {
      "cell_type": "code",
      "source": [
        "get_testing_a = K.function([model.layers[0].input],\n",
        "                                  model_output)\n",
        "get_label_pred = K.function([model.layers[0].input],\n",
        "                                  [model.layers[-1].output])\n",
        "layers_output_random = get_testing_a([random_X_test])\n",
        "label_pred_random = get_label_pred([random_X_test])[0]"
      ],
      "metadata": {
        "id": "-ooX0CIGe_NC"
      },
      "execution_count": null,
      "outputs": []
    },
    {
      "cell_type": "code",
      "source": [
        "\n",
        "max_indices = np.argmax(label_pred_random, axis=1) # having the right label eg 7 or 4\n",
        "y_test_predict_random = np.zeros((max_indices.size, 11))\n",
        "y_test_predict_random[np.arange(max_indices.size), max_indices] = 1 # one hot encoded"
      ],
      "metadata": {
        "id": "FzuuVj-pf-Pi"
      },
      "execution_count": null,
      "outputs": []
    },
    {
      "cell_type": "markdown",
      "source": [
        "Find correlation"
      ],
      "metadata": {
        "id": "nHIhgG_jD6fl"
      }
    },
    {
      "cell_type": "code",
      "source": [
        "def find_corr(array_v, array_bool):\n",
        "  numeric_boolean_values = array_bool.astype(int)\n",
        "  pearson_corr, pearson_p_value = pearsonr(array_v, numeric_boolean_values)\n",
        "  spearman_corr, spearman_p_value = spearmanr(array_v, numeric_boolean_values)\n",
        "  return pearson_corr, pearson_p_value, spearman_corr, spearman_p_value"
      ],
      "metadata": {
        "id": "6og5qD47D5zj"
      },
      "execution_count": null,
      "outputs": []
    },
    {
      "cell_type": "markdown",
      "source": [
        "Rearrange the list properly"
      ],
      "metadata": {
        "id": "73n_aLIhTmk0"
      }
    },
    {
      "cell_type": "code",
      "source": [
        "layers_output_random = np.array(layers_output_random)\n",
        "layers_output_random = layers_output_random.transpose(0, 2, 1)"
      ],
      "metadata": {
        "id": "a22r2qzMTlU-"
      },
      "execution_count": null,
      "outputs": []
    },
    {
      "cell_type": "code",
      "source": [
        "n_images = len(layers_output_random[0][0])\n",
        "percentages = np.empty(n_images)\n",
        "for i in range(n_images):\n",
        "  count = 0\n",
        "  for layer in range(n_layers):\n",
        "    for neuron in range(dense_size):\n",
        "        if ranges[layer][neuron][0] <= layers_output_random[layer][neuron][i] <= ranges[layer][neuron][1] :\n",
        "          count +=1\n",
        "  percentages[i] = count / (n_layers * dense_size) * 100"
      ],
      "metadata": {
        "id": "b5cc1lLJkdcG"
      },
      "execution_count": null,
      "outputs": []
    },
    {
      "cell_type": "markdown",
      "source": [
        "Check which predictions are right"
      ],
      "metadata": {
        "id": "TyBJWrgpuUTw"
      }
    },
    {
      "cell_type": "code",
      "source": [
        "a = np.array([0., 0., 0., 0., 0., 0., 0., 0., 0., 0., 1.])"
      ],
      "metadata": {
        "id": "xiCPFg3vbhN1"
      },
      "execution_count": null,
      "outputs": []
    },
    {
      "cell_type": "code",
      "source": [
        "c = 0\n",
        "for element in y_test_predict_random:\n",
        "  if np.array_equal(element,a):\n",
        "    c += 1\n",
        "print(c)"
      ],
      "metadata": {
        "colab": {
          "base_uri": "https://localhost:8080/"
        },
        "id": "RXIng4YS9CGH",
        "outputId": "c0a13c7d-5c1a-44b4-d743-9ac00d25b8fd"
      },
      "execution_count": null,
      "outputs": [
        {
          "output_type": "stream",
          "name": "stdout",
          "text": [
            "6897\n"
          ]
        }
      ]
    },
    {
      "cell_type": "code",
      "source": [
        "a = np.array([0., 0., 0., 0., 0., 0., 0., 0., 0., 0., 1.])"
      ],
      "metadata": {
        "id": "oS7YQrtqEdgs"
      },
      "execution_count": null,
      "outputs": []
    },
    {
      "cell_type": "code",
      "source": [
        "correct_answers = np.tile(a, (11000, 1))"
      ],
      "metadata": {
        "id": "Z5Ie8zm8gpMR"
      },
      "execution_count": null,
      "outputs": []
    },
    {
      "cell_type": "code",
      "source": [
        "result_rand = np.equal(correct_answers, y_test_predict_random)\n",
        "\n",
        "result_rand = result_rand.all(axis=1)"
      ],
      "metadata": {
        "id": "yILmwtTOEkl3"
      },
      "execution_count": null,
      "outputs": []
    },
    {
      "cell_type": "code",
      "source": [
        "plt.scatter(np.arange(len(percentages)), percentages, color='blue', marker='o')\n",
        "plt.title('Keras Model with relu and 11 classes | Non-image test')\n",
        "plt.xlabel('Prediction Index')\n",
        "plt.ylabel('Percentage of nodes \"in range\"')\n",
        "plt.grid(True)\n",
        "plt.ylim(0, 105)\n",
        "plt.show()"
      ],
      "metadata": {
        "colab": {
          "base_uri": "https://localhost:8080/",
          "height": 472
        },
        "id": "hlaq52fWHW-g",
        "outputId": "c8668261-51ff-413e-edc4-e5c7f7dd70e5"
      },
      "execution_count": null,
      "outputs": [
        {
          "output_type": "display_data",
          "data": {
            "text/plain": [
              "<Figure size 640x480 with 1 Axes>"
            ],
            "image/png": "[encoded data removed]"
          },
          "metadata": {}
        }
      ]
    },
    {
      "cell_type": "code",
      "source": [
        "find_corr(percentages, result_rand)"
      ],
      "metadata": {
        "id": "MFghqSpUqc2q",
        "colab": {
          "base_uri": "https://localhost:8080/"
        },
        "outputId": "5af5f431-4d87-4077-a3b6-b545ea296a6e"
      },
      "execution_count": null,
      "outputs": [
        {
          "output_type": "execute_result",
          "data": {
            "text/plain": [
              "(-0.0859784538602585,\n",
              " 1.6672079214540573e-19,\n",
              " -0.08797292623816914,\n",
              " 2.384405980635171e-20)"
            ]
          },
          "metadata": {},
          "execution_count": 23
        }
      ]
    },
    {
      "cell_type": "markdown",
      "source": [
        "Now we test the Image inputs"
      ],
      "metadata": {
        "id": "eULxKsuHRX4T"
      }
    },
    {
      "cell_type": "code",
      "source": [
        "layers_output = get_testing_a([X_test])\n",
        "label_pred = get_label_pred([X_test])[0]"
      ],
      "metadata": {
        "id": "kHJpB7TsdQ-s"
      },
      "execution_count": null,
      "outputs": []
    },
    {
      "cell_type": "code",
      "source": [
        "max_indices = np.argmax(label_pred, axis=1) # having the right label eg 7 or 4\n",
        "y_test_predict = np.zeros((max_indices.size, 11))\n",
        "y_test_predict[np.arange(max_indices.size), max_indices] = 1 # one hot encoded"
      ],
      "metadata": {
        "id": "z4T29ME7dXmO"
      },
      "execution_count": null,
      "outputs": []
    },
    {
      "cell_type": "code",
      "source": [
        "layers_output= np.array(layers_output)\n",
        "layers_output = layers_output.transpose(0, 2, 1)"
      ],
      "metadata": {
        "id": "J7FCslXkddVn"
      },
      "execution_count": null,
      "outputs": []
    },
    {
      "cell_type": "code",
      "source": [
        "n_images = len(layers_output[0][0])\n",
        "percentages = np.empty(n_images)\n",
        "for i in range(n_images):\n",
        "  count = 0\n",
        "  for layer in range(n_layers):\n",
        "    for neuron in range(dense_size):\n",
        "        if ranges[layer][neuron][0] <= layers_output[layer][neuron][i] <= ranges[layer][neuron][1] :\n",
        "          count +=1\n",
        "  percentages[i] = count / (n_layers * dense_size) * 100"
      ],
      "metadata": {
        "id": "Llk2bgSsdegC"
      },
      "execution_count": null,
      "outputs": []
    },
    {
      "cell_type": "code",
      "source": [
        "k = 0\n",
        "for element in y_test_predict_random:\n",
        "  if np.array_equal(element,a):\n",
        "    k += 1\n",
        "print(k)"
      ],
      "metadata": {
        "colab": {
          "base_uri": "https://localhost:8080/"
        },
        "id": "S6pg9yF0eBma",
        "outputId": "fb6dab7c-ef16-4671-a9b5-19dc586cbdfb"
      },
      "execution_count": null,
      "outputs": [
        {
          "output_type": "stream",
          "name": "stdout",
          "text": [
            "6897\n"
          ]
        }
      ]
    },
    {
      "cell_type": "code",
      "source": [
        "equality_list = np.equal(y_test_predict, y_test).all(axis=1)"
      ],
      "metadata": {
        "id": "lgGZbj1Dhkpr"
      },
      "execution_count": null,
      "outputs": []
    },
    {
      "cell_type": "code",
      "source": [
        "plt.scatter(np.arange(len(percentages)), percentages, color='blue', marker='o')\n",
        "plt.title('Keras Model with relu 11 classes | 11 class test')\n",
        "plt.xlabel('Prediction Index')\n",
        "plt.ylabel('Percentage of nodes \"in range\"')\n",
        "plt.grid(True)\n",
        "plt.ylim(0, 105)\n",
        "plt.show()"
      ],
      "metadata": {
        "colab": {
          "base_uri": "https://localhost:8080/",
          "height": 472
        },
        "id": "jwv3pBNXJC6H",
        "outputId": "b03c9947-9643-4613-af13-c2cf903777de"
      },
      "execution_count": null,
      "outputs": [
        {
          "output_type": "display_data",
          "data": {
            "text/plain": [
              "<Figure size 640x480 with 1 Axes>"
            ],
            "image/png": "[encoded data removed]"
          },
          "metadata": {}
        }
      ]
    },
    {
      "cell_type": "code",
      "source": [
        "find_corr(percentages,equality_list)"
      ],
      "metadata": {
        "colab": {
          "base_uri": "https://localhost:8080/"
        },
        "id": "GLfW8q6dExBu",
        "outputId": "4a6e1cf4-5676-4850-ef9d-8e50f32d936a"
      },
      "execution_count": null,
      "outputs": [
        {
          "output_type": "execute_result",
          "data": {
            "text/plain": [
              "(-0.07720785673515795,\n",
              " 5.111641928504447e-16,\n",
              " -0.08419723317060605,\n",
              " 9.12124159910034e-19)"
            ]
          },
          "metadata": {},
          "execution_count": 31
        }
      ]
    }
  ]
}