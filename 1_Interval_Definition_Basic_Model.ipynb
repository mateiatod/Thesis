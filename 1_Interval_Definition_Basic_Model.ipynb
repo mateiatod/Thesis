{
  "nbformat": 4,
  "nbformat_minor": 0,
  "metadata": {
    "colab": {
      "provenance": []
    },
    "kernelspec": {
      "name": "python3",
      "display_name": "Python 3"
    },
    "language_info": {
      "name": "python"
    }
  },
  "cells": [
    {
      "cell_type": "code",
      "execution_count": null,
      "metadata": {
        "id": "llr_SBwHhvSn"
      },
      "outputs": [],
      "source": [
        "from keras.datasets import mnist\n",
        "from keras.models import Sequential\n",
        "from keras.layers import Dense\n",
        "from keras.callbacks import LambdaCallback\n",
        "from keras import backend as K\n",
        "import keras\n",
        "import numpy as np\n",
        "from keras.datasets import mnist\n",
        "from keras.utils import to_categorical\n",
        "from keras.callbacks import Callback\n",
        "import matplotlib.pyplot as plt"
      ]
    },
    {
      "cell_type": "code",
      "source": [
        "(X_train, y_train), (X_test, y_test) = mnist.load_data()\n",
        "\n",
        "# ratio of the dataset you wanan use\n",
        "ratio = 1\n",
        "subset_size = int(ratio * len(X_train))\n",
        "X_train = X_train[:subset_size].reshape((subset_size, -1))/255.0\n",
        "y_train = to_categorical(y_train[:subset_size], 10)\n",
        "\n",
        "subset_size = int(ratio * len(X_test))\n",
        "X_test = X_test[:subset_size].reshape((subset_size, -1))/255.0\n",
        "y_test = to_categorical(y_test[:subset_size], 10)\n"
      ],
      "metadata": {
        "id": "QkRd7PIhh_QC",
        "colab": {
          "base_uri": "https://localhost:8080/"
        },
        "outputId": "5bee0e20-b18d-4195-e480-2d4c596e56ab"
      },
      "execution_count": null,
      "outputs": [
        {
          "output_type": "stream",
          "name": "stdout",
          "text": [
            "Downloading data from https://storage.googleapis.com/tensorflow/tf-keras-datasets/mnist.npz\n",
            "11490434/11490434 [==============================] - 0s 0us/step\n"
          ]
        }
      ]
    },
    {
      "cell_type": "code",
      "source": [
        "model = Sequential()\n",
        "model.add(Dense(128, activation='relu', input_shape=(784,)))\n",
        "model.add(Dense(128, activation='relu', input_shape=(128,)))\n",
        "model.add(Dense(10, activation='softmax'))\n",
        "\n",
        "model.compile(optimizer='adam', loss='categorical_crossentropy', metrics=['accuracy'])"
      ],
      "metadata": {
        "id": "jpxjfazSiBII"
      },
      "execution_count": null,
      "outputs": []
    },
    {
      "cell_type": "code",
      "source": [
        "ds_size = 60000  * ratio\n",
        "batchsize_train = 128\n",
        "dense_size = 128\n",
        "n_batches = int(ds_size // batchsize_train)\n",
        "n_epochs = 6\n",
        "n_layers = 2"
      ],
      "metadata": {
        "id": "45IsN_oUZjBR"
      },
      "execution_count": null,
      "outputs": []
    },
    {
      "cell_type": "code",
      "source": [
        "shapes = (n_batches, batchsize_train, dense_size)\n",
        "layer_activations = []\n",
        "for _ in range(n_layers):\n",
        "  epochs = []\n",
        "  for i in range(n_epochs):\n",
        "    epochs.append(np.empty(shapes))\n",
        "  layer_activations.append(epochs)\n",
        "model_output = []\n",
        "weights = []\n",
        "\n",
        "class CustomCallback(Callback):\n",
        "    def __init__(self):\n",
        "        super(CustomCallback, self).__init__()\n",
        "        for i in range(n_layers):\n",
        "          model_output.append(model.layers[i].output)\n",
        "        # self.neuron_activations = []\n",
        "        self.ok = False #used for testing\n",
        "\n",
        "    def on_epoch_begin(self, epoch, logs=None):\n",
        "      self.neuron_activations = []\n",
        "      for i in range(n_layers):\n",
        "        self.neuron_activations.append(layer_activations[i][epoch])\n",
        "      if epoch == 0: ## replace 0 with the epoch you wanna test\n",
        "        self.ok = True\n",
        "\n",
        "    def on_batch_begin(self, batch, logs=None):\n",
        "        get_activations = K.function([model.layers[0].input], model_output)\n",
        "        if batch != (n_batches):  # we ignore the last, uncompleted batch so we can have a matrix\n",
        "          get_act = get_activations([X_train[(batch) * batchsize_train: (batch + 1) * batchsize_train]])\n",
        "          for i in range(n_layers):\n",
        "            activations = get_act[i]\n",
        "            self.neuron_activations[i][batch]= np.array(activations)\n",
        "        if batch == 50 and self.ok == True:\n",
        "           weights.append(model.get_weights())\n",
        "           self.ok = False\n",
        "\n",
        "custom_callback = CustomCallback()\n",
        "\n",
        "model.fit(X_train, y_train, epochs=n_epochs, batch_size=batchsize_train, callbacks=[custom_callback])\n"
      ],
      "metadata": {
        "colab": {
          "base_uri": "https://localhost:8080/"
        },
        "id": "jJ3mLLgZiQfY",
        "outputId": "f6dd0653-7cf7-4183-fac6-7ae412835c06"
      },
      "execution_count": null,
      "outputs": [
        {
          "output_type": "stream",
          "name": "stdout",
          "text": [
            "Epoch 1/6\n",
            "  6/469 [..............................] - ETA: 34s - loss: 2.1214 - accuracy: 0.3398"
          ]
        },
        {
          "output_type": "stream",
          "name": "stderr",
          "text": [
            "WARNING:tensorflow:Callback method `on_train_batch_begin` is slow compared to the batch time (batch time: 0.0181s vs `on_train_batch_begin` time: 0.0803s). Check your callbacks.\n"
          ]
        },
        {
          "output_type": "stream",
          "name": "stdout",
          "text": [
            "469/469 [==============================] - 23s 43ms/step - loss: 0.3072 - accuracy: 0.9160\n",
            "Epoch 2/6\n",
            "469/469 [==============================] - 8s 18ms/step - loss: 0.1226 - accuracy: 0.9637\n",
            "Epoch 3/6\n",
            "469/469 [==============================] - 8s 18ms/step - loss: 0.0842 - accuracy: 0.9749\n",
            "Epoch 4/6\n",
            "469/469 [==============================] - 8s 16ms/step - loss: 0.0635 - accuracy: 0.9807\n",
            "Epoch 5/6\n",
            "469/469 [==============================] - 9s 18ms/step - loss: 0.0491 - accuracy: 0.9856\n",
            "Epoch 6/6\n",
            "469/469 [==============================] - 9s 19ms/step - loss: 0.0396 - accuracy: 0.9879\n"
          ]
        },
        {
          "output_type": "execute_result",
          "data": {
            "text/plain": [
              "<keras.src.callbacks.History at 0x7f66557195d0>"
            ]
          },
          "metadata": {},
          "execution_count": 5
        }
      ]
    },
    {
      "cell_type": "markdown",
      "source": [
        "Check if it works as intended"
      ],
      "metadata": {
        "id": "Co7fJDn2CuX0"
      }
    },
    {
      "cell_type": "code",
      "source": [
        "# small_w1 = np.array(weights[0][0])\n",
        "# small_b1 = np.array(weights[0][1])\n",
        "# small_w2 = np.array(weights[0][2])\n",
        "# small_b2 = np.array(weights[0][3])\n",
        "# result = np.matmul(X_train[50*128], small_w1) + small_b1\n",
        "# # print(result)\n",
        "# result = np.maximum(0, result)\n",
        "# result2 = np.matmul(result, small_w2) + small_b2\n",
        "# print(result)"
      ],
      "metadata": {
        "id": "I-4_ugpICtry"
      },
      "execution_count": null,
      "outputs": []
    },
    {
      "cell_type": "markdown",
      "source": [
        "Properly arrange list"
      ],
      "metadata": {
        "id": "HgIW3xoldCW6"
      }
    },
    {
      "cell_type": "code",
      "source": [
        "neuron_activations = []\n",
        "for j in range(n_layers):\n",
        "  for i in range(n_epochs):\n",
        "    layer_activations[j][i] = np.reshape(layer_activations[j][i], (n_batches * batchsize_train, dense_size ))\n",
        "    layer_activations[j][i] = layer_activations[j][i].T.reshape((dense_size,-1))\n",
        "  neuron_activations.append(np.hstack(layer_activations[j]))\n"
      ],
      "metadata": {
        "id": "-ERpISfWkVd0"
      },
      "execution_count": null,
      "outputs": []
    },
    {
      "cell_type": "markdown",
      "source": [
        "Plot histogram of the values an arbitrary neuron has"
      ],
      "metadata": {
        "id": "60qXPy2RmSN3"
      }
    },
    {
      "cell_type": "code",
      "source": [
        "plt.hist(neuron_activations[0][-5], bins=20, color='skyblue', edgecolor='black')\n",
        "plt.title('Histogram of Function')\n",
        "plt.xlabel('Function Values')\n",
        "plt.ylabel('Frequency')\n",
        "plt.grid(True)\n",
        "plt.show()"
      ],
      "metadata": {
        "colab": {
          "base_uri": "https://localhost:8080/"
        },
        "id": "mefyjtl6mRnb",
        "outputId": "4648172b-47c4-4168-869e-23049794fea0"
      },
      "execution_count": null,
      "outputs": [
        {
          "output_type": "display_data",
          "data": {
            "text/plain": [
              "<Figure size 640x480 with 1 Axes>"
            ],
            "image/png": "[encoded data removed]"
          },
          "metadata": {}
        }
      ]
    },
    {
      "cell_type": "markdown",
      "source": [
        "We now compute the ranges of the neurons"
      ],
      "metadata": {
        "id": "DvZh9b4Go_qk"
      }
    },
    {
      "cell_type": "code",
      "source": [
        "ranges = np.empty((n_layers,dense_size,2))\n",
        "for layer in range(n_layers):\n",
        "  for i in range(dense_size):\n",
        "    ranges[layer][i][0] = np.min(neuron_activations[layer][i])\n",
        "    ranges[layer][i][1] = np.max(neuron_activations[layer][i])"
      ],
      "metadata": {
        "id": "miFCqofkU_5l"
      },
      "execution_count": null,
      "outputs": []
    },
    {
      "cell_type": "markdown",
      "source": [
        "Get activations from tests"
      ],
      "metadata": {
        "id": "RUQ09B_byBFe"
      }
    },
    {
      "cell_type": "code",
      "source": [
        "get_testing_a = K.function([model.layers[0].input],\n",
        "                                  model_output)\n",
        "get_label_pred = K.function([model.layers[0].input],\n",
        "                                  [model.layers[-1].output])\n",
        "layers_output = get_testing_a([X_test])\n",
        "label_pred = get_label_pred([X_test])[0]"
      ],
      "metadata": {
        "id": "-ooX0CIGe_NC"
      },
      "execution_count": null,
      "outputs": []
    },
    {
      "cell_type": "code",
      "source": [
        "\n",
        "max_indices = np.argmax(label_pred, axis=1)\n",
        "y_test_predict = np.zeros((max_indices.size, 10))\n",
        "y_test_predict[np.arange(max_indices.size), max_indices] = 1 # one hot encoded"
      ],
      "metadata": {
        "id": "FzuuVj-pf-Pi"
      },
      "execution_count": null,
      "outputs": []
    },
    {
      "cell_type": "markdown",
      "source": [
        "Test if it works"
      ],
      "metadata": {
        "id": "kuWI1JlogARE"
      }
    },
    {
      "cell_type": "code",
      "source": [
        "# w_test = model.get_weights()\n",
        "# small_w1 = np.array(w_test[0])\n",
        "# small_b1 = np.array(w_test[1])\n",
        "# inpt = np.array(X_test[50])\n",
        "# actvv = np.matmul(inpt,small_w1) + small_b1\n",
        "# actvv = np.maximum(0, actvv)\n",
        "# small_w2 = np.array(w_test[2])\n",
        "# small_b2 = np.array(w_test[3])\n",
        "# actvv2 = np.matmul(actvv, small_w2) + small_b2\n",
        "# actvv2 = np.maximum(0, actvv2)"
      ],
      "metadata": {
        "id": "QgXtl4tSgAtR"
      },
      "execution_count": null,
      "outputs": []
    },
    {
      "cell_type": "markdown",
      "source": [
        "Rearrange the list properly"
      ],
      "metadata": {
        "id": "73n_aLIhTmk0"
      }
    },
    {
      "cell_type": "code",
      "source": [
        "layers_output= np.array(layers_output)\n",
        "layers_output = layers_output.transpose(0, 2, 1)"
      ],
      "metadata": {
        "id": "a22r2qzMTlU-"
      },
      "execution_count": null,
      "outputs": []
    },
    {
      "cell_type": "code",
      "source": [
        "n_images = len(layers_output[0][0])\n",
        "percentages = np.empty(n_images)\n",
        "for i in range(n_images):\n",
        "  count = 0\n",
        "  for layer in range(n_layers):\n",
        "    for neuron in range(dense_size):\n",
        "        if ranges[layer][neuron][0] <= layers_output[layer][neuron][i] <= ranges[layer][neuron][1] :\n",
        "          count +=1\n",
        "  percentages[i] = count / (n_layers * dense_size) * 100"
      ],
      "metadata": {
        "id": "b5cc1lLJkdcG"
      },
      "execution_count": null,
      "outputs": []
    },
    {
      "cell_type": "code",
      "source": [
        "indices = np.arange(len(percentages))"
      ],
      "metadata": {
        "id": "Nhz6EiOtj8EC"
      },
      "execution_count": null,
      "outputs": []
    },
    {
      "cell_type": "code",
      "source": [
        "remove_count = int(len(percentages) * 0.025)\n",
        "sorted_indices = np.argsort(percentages)\n",
        "top_indices = sorted_indices[-remove_count:]\n",
        "bottom_indices = sorted_indices[:remove_count]"
      ],
      "metadata": {
        "id": "sHSuCFt1j-JG"
      },
      "execution_count": null,
      "outputs": []
    },
    {
      "cell_type": "code",
      "source": [
        "trimmed_percentages = np.delete(percentages, np.concatenate((top_indices, bottom_indices)))"
      ],
      "metadata": {
        "id": "r9S3iXvKn7ZL"
      },
      "execution_count": null,
      "outputs": []
    },
    {
      "cell_type": "code",
      "source": [
        "percentage_count = 0\n",
        "for percentage in percentages:\n",
        "  if percentage == 100.:\n",
        "    percentage_count += 1\n",
        "print(percentage_count)"
      ],
      "metadata": {
        "colab": {
          "base_uri": "https://localhost:8080/"
        },
        "id": "A0Fe_iOF940g",
        "outputId": "4d5e1834-bad6-46bd-fb58-bb22c9385b20"
      },
      "execution_count": null,
      "outputs": [
        {
          "output_type": "stream",
          "name": "stdout",
          "text": [
            "9973\n"
          ]
        }
      ]
    },
    {
      "cell_type": "code",
      "source": [
        "plt.scatter(np.arange(len(percentages)), percentages, color='blue', marker='o')\n",
        "plt.title('Keras Model with relu ')\n",
        "plt.xlabel('Prediction Index')\n",
        "plt.ylabel('Percentage of nodes \"in range\"')\n",
        "plt.grid(True)\n",
        "plt.ylim(95, 105)\n",
        "plt.show()"
      ],
      "metadata": {
        "colab": {
          "base_uri": "https://localhost:8080/"
        },
        "id": "ReOXYTMAjRmD",
        "outputId": "2e609066-b3b2-48c8-df92-07133074b47a"
      },
      "execution_count": null,
      "outputs": [
        {
          "output_type": "display_data",
          "data": {
            "text/plain": [
              "<Figure size 640x480 with 1 Axes>"
            ],
            "image/png": "[encoded data removed]"
          },
          "metadata": {}
        }
      ]
    },
    {
      "cell_type": "markdown",
      "source": [
        "Check which predictions are right"
      ],
      "metadata": {
        "id": "TyBJWrgpuUTw"
      }
    },
    {
      "cell_type": "code",
      "source": [
        "result = np.equal(y_test, y_test_predict)\n",
        "\n",
        "result = result.all(axis=1)"
      ],
      "metadata": {
        "id": "mBp9-uIuqgLq"
      },
      "execution_count": null,
      "outputs": []
    }
  ]
}