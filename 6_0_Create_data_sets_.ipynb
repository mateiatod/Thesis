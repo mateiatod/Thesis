{
  "nbformat": 4,
  "nbformat_minor": 0,
  "metadata": {
    "colab": {
      "provenance": []
    },
    "kernelspec": {
      "name": "python3",
      "display_name": "Python 3"
    },
    "language_info": {
      "name": "python"
    }
  },
  "cells": [
    {
      "cell_type": "markdown",
      "source": [
        "In this notebook we enrich the MNIST training and testing set by adding white noise images."
      ],
      "metadata": {
        "id": "x0Axtgz8cd-3"
      }
    },
    {
      "cell_type": "code",
      "execution_count": null,
      "metadata": {
        "colab": {
          "base_uri": "https://localhost:8080/"
        },
        "id": "zonasd_pXb8M",
        "outputId": "97b04bb4-9432-4d15-b465-aa45ea2ecac2"
      },
      "outputs": [
        {
          "output_type": "stream",
          "name": "stdout",
          "text": [
            "Drive already mounted at /content/drive; to attempt to forcibly remount, call drive.mount(\"/content/drive\", force_remount=True).\n"
          ]
        }
      ],
      "source": [
        "from keras.datasets import mnist\n",
        "from keras.models import Sequential\n",
        "from keras.layers import Dense\n",
        "from keras.callbacks import LambdaCallback\n",
        "from keras import backend as K\n",
        "import keras\n",
        "import numpy as np\n",
        "from keras.datasets import mnist\n",
        "from keras.utils import to_categorical\n",
        "from keras.callbacks import Callback\n",
        "from google.colab import drive\n",
        "drive.mount('/content/drive')"
      ]
    },
    {
      "cell_type": "code",
      "source": [
        "(X_train, y_train), (X_test, y_test) = mnist.load_data()\n",
        "\n",
        "# ratio of the dataset you wanan use\n",
        "ratio = 1\n",
        "subset_size = int(ratio * len(X_train))\n",
        "X_train = X_train[:subset_size].reshape((subset_size, -1))/255.0\n",
        "y_train = to_categorical(y_train[:subset_size], 10)\n",
        "\n",
        "subset_size = int(ratio * len(X_test))\n",
        "X_test = X_test[:subset_size].reshape((subset_size, -1))/255.0\n",
        "y_test = to_categorical(y_test[:subset_size], 10)\n"
      ],
      "metadata": {
        "id": "yZJsalAVXf5O"
      },
      "execution_count": null,
      "outputs": []
    },
    {
      "cell_type": "code",
      "source": [
        "new_X_train = np.empty((66000, 784))\n",
        "new_y_train = np.zeros((66000, 11))\n",
        "new_X_test = np.empty((11000,784))\n",
        "new_y_test = np.zeros((11000, 11))"
      ],
      "metadata": {
        "id": "ZVCubT_PflGL"
      },
      "execution_count": null,
      "outputs": []
    },
    {
      "cell_type": "code",
      "source": [
        "permutation_train = np.random.permutation(len(new_X_train))\n",
        "permutation_test = np.random.permutation(len(new_X_test))\n",
        "random_train = np.random.rand(6000, 784)\n",
        "random_test = np.random.rand(1000,784)"
      ],
      "metadata": {
        "id": "wPHlL7iPclqj"
      },
      "execution_count": null,
      "outputs": []
    },
    {
      "cell_type": "code",
      "source": [
        "new_X_train = np.empty((66000, 784))\n",
        "new_y_train = np.zeros((66000, 11))\n",
        "new_X_test = np.empty((11000,784))\n",
        "new_y_test = np.zeros((11000, 11))"
      ],
      "metadata": {
        "id": "7acACKoTXidV"
      },
      "execution_count": null,
      "outputs": []
    },
    {
      "cell_type": "code",
      "source": [
        "new_y_train[:60000, :10] = y_train\n",
        "new_y_train[60000:, -1] = 1\n",
        "new_y_test[:10000, :10] = y_test\n",
        "new_y_test[10000:, -1] = 1"
      ],
      "metadata": {
        "id": "u7U8lRjEXiyH"
      },
      "execution_count": null,
      "outputs": []
    },
    {
      "cell_type": "code",
      "source": [
        "new_X_train[:60000] = X_train\n",
        "new_X_train[60000:] = random_train"
      ],
      "metadata": {
        "id": "m4dveUGYXkZW"
      },
      "execution_count": null,
      "outputs": []
    },
    {
      "cell_type": "code",
      "source": [
        "new_X_test[:10000] = X_test\n",
        "new_X_test[10000:] = random_test"
      ],
      "metadata": {
        "id": "gzOaqDVWZimw"
      },
      "execution_count": null,
      "outputs": []
    },
    {
      "cell_type": "code",
      "source": [
        "X_train_new = new_X_train[permutation_train]\n",
        "y_train_new = new_y_train[permutation_train]\n",
        "X_test_new = new_X_test[permutation_test]\n",
        "y_test_new = new_y_test[permutation_test]"
      ],
      "metadata": {
        "id": "HT9G01BiZniQ"
      },
      "execution_count": null,
      "outputs": []
    },
    {
      "cell_type": "code",
      "source": [
        "np.save('/content/drive/My Drive/X_train_new.npy', X_train_new)\n",
        "np.save('/content/drive/My Drive/y_train_new.npy', y_train_new)\n",
        "np.save('/content/drive/My Drive/X_test_new.npy', X_test_new)\n",
        "np.save('/content/drive/My Drive/y_test_new.npy', y_test_new)"
      ],
      "metadata": {
        "id": "OJjOsduPcOaM"
      },
      "execution_count": null,
      "outputs": []
    },
    {
      "cell_type": "code",
      "source": [
        "print(len(X_train_new))"
      ],
      "metadata": {
        "id": "P8IH_kqejdON",
        "colab": {
          "base_uri": "https://localhost:8080/"
        },
        "outputId": "92025696-523a-4b37-ccfd-f673446979b0"
      },
      "execution_count": null,
      "outputs": [
        {
          "output_type": "stream",
          "name": "stdout",
          "text": [
            "66000\n"
          ]
        }
      ]
    }
  ]
}