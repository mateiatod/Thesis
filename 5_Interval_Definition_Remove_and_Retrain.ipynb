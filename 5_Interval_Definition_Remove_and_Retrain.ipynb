{
  "nbformat": 4,
  "nbformat_minor": 0,
  "metadata": {
    "colab": {
      "provenance": []
    },
    "kernelspec": {
      "name": "python3",
      "display_name": "Python 3"
    },
    "language_info": {
      "name": "python"
    }
  },
  "cells": [
    {
      "cell_type": "code",
      "execution_count": null,
      "metadata": {
        "id": "llr_SBwHhvSn"
      },
      "outputs": [],
      "source": [
        "from keras.datasets import mnist\n",
        "from keras.models import Sequential\n",
        "from keras.layers import Dense\n",
        "from keras.callbacks import LambdaCallback\n",
        "from keras import backend as K\n",
        "import keras\n",
        "import numpy as np\n",
        "from keras.datasets import mnist\n",
        "from keras.utils import to_categorical\n",
        "from keras.callbacks import Callback\n",
        "from scipy.stats import pearsonr, spearmanr\n",
        "import matplotlib.pyplot as plt"
      ]
    },
    {
      "cell_type": "code",
      "source": [
        "(X_train, y_train), (X_test, y_test) = mnist.load_data()\n",
        "\n",
        "# ratio of the dataset you wanan use\n",
        "ratio = 1\n",
        "subset_size = int(ratio * len(X_train))\n",
        "X_train = X_train[:subset_size].reshape((subset_size, -1))/255.0\n",
        "y_train = to_categorical(y_train[:subset_size], 10)\n",
        "\n",
        "subset_size = int(ratio * len(X_test))\n",
        "X_test = X_test[:subset_size].reshape((subset_size, -1))/255.0\n",
        "y_test = to_categorical(y_test[:subset_size], 10)\n"
      ],
      "metadata": {
        "id": "QkRd7PIhh_QC"
      },
      "execution_count": null,
      "outputs": []
    },
    {
      "cell_type": "code",
      "source": [
        "activation_function = 'sigmoid'"
      ],
      "metadata": {
        "id": "vxGe0Csme4AY"
      },
      "execution_count": null,
      "outputs": []
    },
    {
      "cell_type": "code",
      "source": [
        "model = Sequential()\n",
        "model.add(Dense(128, activation= activation_function, input_shape=(784,)))\n",
        "model.add(Dense(128, activation= activation_function, input_shape=(128,)))\n",
        "model.add(Dense(10, activation='softmax'))\n",
        "\n",
        "model.compile(optimizer='adam', loss='categorical_crossentropy', metrics=['accuracy'])"
      ],
      "metadata": {
        "id": "jpxjfazSiBII"
      },
      "execution_count": null,
      "outputs": []
    },
    {
      "cell_type": "code",
      "source": [
        "ds_size = 60000  * ratio\n",
        "batchsize_train = 128\n",
        "dense_size = 128\n",
        "n_batches = int(ds_size // batchsize_train)\n",
        "n_epochs = 3\n",
        "n_layers = 2"
      ],
      "metadata": {
        "id": "J-Ym22u-bWoO"
      },
      "execution_count": null,
      "outputs": []
    },
    {
      "cell_type": "code",
      "source": [
        "shapes = (n_batches, batchsize_train, dense_size)\n",
        "\n",
        "layer_activations = []\n",
        "for _ in range(n_layers):\n",
        "  epochs = []\n",
        "  for i in range(n_epochs):\n",
        "    epochs.append(np.empty(shapes))\n",
        "  layer_activations.append(epochs)\n",
        "model_output = []\n",
        "weights = []\n",
        "\n",
        "class CustomCallback(Callback):\n",
        "    def __init__(self):\n",
        "        super(CustomCallback, self).__init__()\n",
        "        for i in range(n_layers):\n",
        "          model_output.append(model.layers[i].output)\n",
        "        self.ok = False #used for testing\n",
        "\n",
        "    def on_epoch_begin(self, epoch, logs=None):\n",
        "      self.neuron_activations = []\n",
        "      for i in range(n_layers):\n",
        "        self.neuron_activations.append(layer_activations[i][epoch])\n",
        "      if epoch == 0: ## replace 0 with the epoch you wanna test\n",
        "        self.ok = True\n",
        "\n",
        "    def on_batch_begin(self, batch, logs=None):\n",
        "        get_activations = K.function([model.layers[0].input], model_output)\n",
        "        if batch != (n_batches):  # we ignore the last, uncompleted batch so we can have a matrix\n",
        "          get_act = get_activations([X_train[(batch) * batchsize_train: (batch + 1) * batchsize_train]])\n",
        "          for i in range(n_layers):\n",
        "            activations = get_act[i]\n",
        "            self.neuron_activations[i][batch]= np.array(activations)\n",
        "        if batch == 50 and self.ok == True:\n",
        "           weights.append(model.get_weights())\n",
        "           self.ok = False\n",
        "\n",
        "custom_callback = CustomCallback()\n",
        "\n",
        "model.fit(X_train, y_train, epochs=n_epochs, batch_size=batchsize_train, callbacks=[custom_callback])\n"
      ],
      "metadata": {
        "colab": {
          "base_uri": "https://localhost:8080/"
        },
        "id": "jJ3mLLgZiQfY",
        "outputId": "9ae0a34f-3845-4144-821d-7f2d9db123b5"
      },
      "execution_count": null,
      "outputs": [
        {
          "output_type": "stream",
          "name": "stdout",
          "text": [
            "Epoch 1/3\n",
            "  5/469 [..............................] - ETA: 6s - loss: 2.3760 - accuracy: 0.1328  "
          ]
        },
        {
          "output_type": "stream",
          "name": "stderr",
          "text": [
            "WARNING:tensorflow:Callback method `on_train_batch_begin` is slow compared to the batch time (batch time: 0.0042s vs `on_train_batch_begin` time: 0.0086s). Check your callbacks.\n"
          ]
        },
        {
          "output_type": "stream",
          "name": "stdout",
          "text": [
            "469/469 [==============================] - 7s 14ms/step - loss: 0.6885 - accuracy: 0.8273\n",
            "Epoch 2/3\n",
            "469/469 [==============================] - 7s 16ms/step - loss: 0.2453 - accuracy: 0.9294\n",
            "Epoch 3/3\n",
            "469/469 [==============================] - 7s 15ms/step - loss: 0.1852 - accuracy: 0.9451\n"
          ]
        },
        {
          "output_type": "execute_result",
          "data": {
            "text/plain": [
              "<keras.src.callbacks.History at 0x7bce9c055060>"
            ]
          },
          "metadata": {},
          "execution_count": 38
        }
      ]
    },
    {
      "cell_type": "markdown",
      "source": [
        "Properly arrange list"
      ],
      "metadata": {
        "id": "HgIW3xoldCW6"
      }
    },
    {
      "cell_type": "code",
      "source": [
        "neuron_activations = []\n",
        "for j in range(n_layers):\n",
        "  for i in range(n_epochs):\n",
        "    layer_activations[j][i] = np.reshape(layer_activations[j][i], (n_batches * batchsize_train, dense_size ))\n",
        "    layer_activations[j][i] = layer_activations[j][i].T.reshape((dense_size,-1))\n",
        "  neuron_activations.append(np.hstack(layer_activations[j]))\n"
      ],
      "metadata": {
        "id": "-ERpISfWkVd0"
      },
      "execution_count": null,
      "outputs": []
    },
    {
      "cell_type": "markdown",
      "source": [
        "Remember the images that produce the neurons with the highest activations"
      ],
      "metadata": {
        "id": "cViUrHNJURzb"
      }
    },
    {
      "cell_type": "code",
      "source": [
        "print(int(len(neuron_activations[0][0]) * 0.003125))"
      ],
      "metadata": {
        "colab": {
          "base_uri": "https://localhost:8080/"
        },
        "id": "XLhOVktIGri4",
        "outputId": "fbaf3348-a275-45a5-839f-bddcf17839f9"
      },
      "execution_count": null,
      "outputs": [
        {
          "output_type": "stream",
          "name": "stdout",
          "text": [
            "561\n"
          ]
        }
      ]
    },
    {
      "cell_type": "code",
      "source": [
        "remove_neurons = int(len(neuron_activations[0][0]) * 0.003125)\n",
        "top_indices = np.empty((n_layers,dense_size,remove_neurons))\n",
        "bottom_indices = np.empty((n_layers,dense_size,remove_neurons))\n",
        "for layer_ in range(n_layers):\n",
        "  for neuron_ in range(dense_size):\n",
        "    top_indices[layer_][neuron_] = np.argsort(neuron_activations[layer_][neuron_])[-remove_neurons:][::-1]\n",
        "    bottom_indices[layer_][neuron_] = np.argsort(neuron_activations[layer_][neuron_])[:remove_neurons]"
      ],
      "metadata": {
        "id": "nM22tPFUVBM2"
      },
      "execution_count": null,
      "outputs": []
    },
    {
      "cell_type": "code",
      "source": [
        "top_indices[top_indices >= 60000] = top_indices[top_indices >= 60000] % 60000\n",
        "bottom_indices[bottom_indices >= 60000] = bottom_indices[bottom_indices >= 60000] % 60000"
      ],
      "metadata": {
        "id": "yx2pMa8WFSb5"
      },
      "execution_count": null,
      "outputs": []
    },
    {
      "cell_type": "code",
      "source": [
        "top_indices = top_indices.reshape(-1).astype(int)\n",
        "bottom_indices = bottom_indices.reshape(-1).astype(int)"
      ],
      "metadata": {
        "id": "N9uKtcxGEH2V"
      },
      "execution_count": null,
      "outputs": []
    },
    {
      "cell_type": "code",
      "source": [
        "to_remove = np.append(top_indices, bottom_indices)"
      ],
      "metadata": {
        "id": "6nhV8vi9hXOb"
      },
      "execution_count": null,
      "outputs": []
    },
    {
      "cell_type": "markdown",
      "source": [
        "Remove these neurons"
      ],
      "metadata": {
        "id": "WnXAis_dC5fL"
      }
    },
    {
      "cell_type": "code",
      "source": [
        "mask = np.ones(len(X_train), dtype=bool)\n",
        "mask[to_remove] = False\n",
        "X_train_trimmed = X_train[mask]\n",
        "y_train_trimmed =  y_train[mask]\n"
      ],
      "metadata": {
        "id": "Agcs-buXC7cB"
      },
      "execution_count": null,
      "outputs": []
    },
    {
      "cell_type": "code",
      "source": [
        "X_removed = X_train[to_remove]\n",
        "y_removed = y_train[to_remove]"
      ],
      "metadata": {
        "id": "U_AvmuDYMSUC"
      },
      "execution_count": null,
      "outputs": []
    },
    {
      "cell_type": "markdown",
      "source": [
        "Now we retrain the network"
      ],
      "metadata": {
        "id": "LlwQXDyrHhU2"
      }
    },
    {
      "cell_type": "code",
      "source": [
        "model = Sequential()\n",
        "model.add(Dense(128, activation= activation_function, input_shape=(784,)))\n",
        "model.add(Dense(128, activation= activation_function, input_shape=(128,)))\n",
        "model.add(Dense(10, activation='softmax'))\n",
        "\n",
        "model.compile(optimizer='adam', loss='categorical_crossentropy', metrics=['accuracy'])"
      ],
      "metadata": {
        "id": "8owcqixpHjU9"
      },
      "execution_count": null,
      "outputs": []
    },
    {
      "cell_type": "code",
      "source": [
        "ds_size = len(X_train_trimmed)  * ratio\n",
        "n_batches = int(ds_size // batchsize_train)"
      ],
      "metadata": {
        "id": "dcZN5FLxdg2B"
      },
      "execution_count": null,
      "outputs": []
    },
    {
      "cell_type": "code",
      "source": [
        "shapes = (n_batches, batchsize_train, dense_size)\n",
        "\n",
        "layer_activations = []\n",
        "for _ in range(n_layers):\n",
        "  epochs = []\n",
        "  for i in range(n_epochs):\n",
        "    epochs.append(np.empty(shapes))\n",
        "  layer_activations.append(epochs)\n",
        "model_output = []\n",
        "weights = []\n",
        "\n",
        "class CustomCallback(Callback):\n",
        "    def __init__(self):\n",
        "        super(CustomCallback, self).__init__()\n",
        "        for i in range(n_layers):\n",
        "          model_output.append(model.layers[i].output)\n",
        "        self.ok = False #used for testing\n",
        "\n",
        "    def on_epoch_begin(self, epoch, logs=None):\n",
        "      self.neuron_activations = []\n",
        "      for i in range(n_layers):\n",
        "        self.neuron_activations.append(layer_activations[i][epoch])\n",
        "      if epoch == 0: ## replace 0 with the epoch you wanna test\n",
        "        self.ok = True\n",
        "\n",
        "    def on_batch_begin(self, batch, logs=None):\n",
        "        get_activations = K.function([model.layers[0].input], model_output)\n",
        "        if batch != (n_batches):  # we ignore the last, uncompleted batch so we can have a matrix\n",
        "          get_act = get_activations([X_train_trimmed[(batch) * batchsize_train: (batch + 1) * batchsize_train]])\n",
        "          for i in range(n_layers):\n",
        "            activations = get_act[i]\n",
        "            self.neuron_activations[i][batch]= np.array(activations)\n",
        "        if batch == 50 and self.ok == True:\n",
        "           weights.append(model.get_weights())\n",
        "           self.ok = False\n",
        "\n",
        "custom_callback = CustomCallback()\n",
        "\n",
        "model.fit(X_train_trimmed, y_train_trimmed, epochs=n_epochs, batch_size=batchsize_train, callbacks=[custom_callback])"
      ],
      "metadata": {
        "colab": {
          "base_uri": "https://localhost:8080/"
        },
        "id": "miTIf6BiHjKK",
        "outputId": "87bd2b8a-0340-47a9-c61e-dcbb771c78d9"
      },
      "execution_count": null,
      "outputs": [
        {
          "output_type": "stream",
          "name": "stdout",
          "text": [
            "Epoch 1/3\n",
            "  5/105 [>.............................] - ETA: 1s - loss: 2.4942 - accuracy: 0.1359  "
          ]
        },
        {
          "output_type": "stream",
          "name": "stderr",
          "text": [
            "WARNING:tensorflow:Callback method `on_train_batch_begin` is slow compared to the batch time (batch time: 0.0045s vs `on_train_batch_begin` time: 0.0092s). Check your callbacks.\n"
          ]
        },
        {
          "output_type": "stream",
          "name": "stdout",
          "text": [
            "105/105 [==============================] - 3s 17ms/step - loss: 1.6885 - accuracy: 0.5738\n",
            "Epoch 2/3\n",
            "105/105 [==============================] - 1s 13ms/step - loss: 0.7152 - accuracy: 0.8406\n",
            "Epoch 3/3\n",
            "105/105 [==============================] - 1s 13ms/step - loss: 0.4605 - accuracy: 0.8812\n"
          ]
        },
        {
          "output_type": "execute_result",
          "data": {
            "text/plain": [
              "<keras.src.callbacks.History at 0x7bcea4f58b50>"
            ]
          },
          "metadata": {},
          "execution_count": 49
        }
      ]
    },
    {
      "cell_type": "markdown",
      "source": [
        "Re arrange the array with the new activations"
      ],
      "metadata": {
        "id": "Mafk5PS-Ic3U"
      }
    },
    {
      "cell_type": "code",
      "source": [
        "neuron_activations = []\n",
        "for j in range(n_layers):\n",
        "  for i in range(n_epochs):\n",
        "    layer_activations[j][i] = np.reshape(layer_activations[j][i], (n_batches * batchsize_train, dense_size ))\n",
        "    layer_activations[j][i] = layer_activations[j][i].T.reshape((dense_size,-1))\n",
        "  neuron_activations.append(np.hstack(layer_activations[j]))"
      ],
      "metadata": {
        "id": "UX3AUxuvHvJd"
      },
      "execution_count": null,
      "outputs": []
    },
    {
      "cell_type": "markdown",
      "source": [
        "We now compute the ranges of the neurons"
      ],
      "metadata": {
        "id": "DvZh9b4Go_qk"
      }
    },
    {
      "cell_type": "code",
      "source": [
        "ranges = np.empty((n_layers,dense_size,2))\n",
        "for layer in range(n_layers):\n",
        "  for i in range(dense_size):\n",
        "    ranges[layer][i][0] = np.min(neuron_activations[layer][i])\n",
        "    ranges[layer][i][1] = np.max(neuron_activations[layer][i])"
      ],
      "metadata": {
        "id": "miFCqofkU_5l"
      },
      "execution_count": null,
      "outputs": []
    },
    {
      "cell_type": "markdown",
      "source": [
        "Get activations from tests"
      ],
      "metadata": {
        "id": "RUQ09B_byBFe"
      }
    },
    {
      "cell_type": "code",
      "source": [
        "get_testing_a = K.function([model.layers[0].input],\n",
        "                                  model_output)\n",
        "get_label_pred = K.function([model.layers[0].input],\n",
        "                                  [model.layers[-1].output])\n",
        "layers_output = get_testing_a([X_removed])\n",
        "label_pred = get_label_pred([X_removed])[0]"
      ],
      "metadata": {
        "id": "-ooX0CIGe_NC"
      },
      "execution_count": null,
      "outputs": []
    },
    {
      "cell_type": "code",
      "source": [
        "max_indices = np.argmax(label_pred, axis=1) # having the right label eg 7 or 4\n",
        "y_test_predict = np.zeros((max_indices.size, 10))\n",
        "y_test_predict[np.arange(max_indices.size), max_indices] = 1 # one hot encoded"
      ],
      "metadata": {
        "id": "FzuuVj-pf-Pi"
      },
      "execution_count": null,
      "outputs": []
    },
    {
      "cell_type": "markdown",
      "source": [
        "Rearrange the list properly"
      ],
      "metadata": {
        "id": "73n_aLIhTmk0"
      }
    },
    {
      "cell_type": "code",
      "source": [
        "layers_output= np.array(layers_output)\n",
        "layers_output = layers_output.transpose(0, 2, 1)"
      ],
      "metadata": {
        "id": "a22r2qzMTlU-"
      },
      "execution_count": null,
      "outputs": []
    },
    {
      "cell_type": "code",
      "source": [
        "n_images = len(layers_output[0][0])\n",
        "percentages = np.empty(n_images)\n",
        "for i in range(n_images):\n",
        "  count = 0\n",
        "  for layer in range(n_layers):\n",
        "    for neuron in range(dense_size):\n",
        "        if ranges[layer][neuron][0] <= layers_output[layer][neuron][i] <= ranges[layer][neuron][1] :\n",
        "          count +=1\n",
        "  percentages[i] = count / (n_layers * dense_size) * 100"
      ],
      "metadata": {
        "id": "b5cc1lLJkdcG"
      },
      "execution_count": null,
      "outputs": []
    },
    {
      "cell_type": "code",
      "source": [
        "plt.scatter(np.arange(len(percentages)), percentages, color='blue', marker='o')\n",
        "plt.title('Keras Model with sigmoid Train and Retrain')\n",
        "plt.xlabel('Prediction Index')\n",
        "plt.ylabel('Percentage of nodes \"in range\"')\n",
        "plt.grid(True)\n",
        "plt.ylim(75, 105)\n",
        "plt.show()"
      ],
      "metadata": {
        "id": "l5osy3MtsBgG",
        "colab": {
          "base_uri": "https://localhost:8080/",
          "height": 472
        },
        "outputId": "fa25cbc8-b7ce-4d74-e682-2593fd58f021"
      },
      "execution_count": null,
      "outputs": [
        {
          "output_type": "display_data",
          "data": {
            "text/plain": [
              "<Figure size 640x480 with 1 Axes>"
            ],
            "image/png": "[encoded data removed]"
          },
          "metadata": {}
        }
      ]
    },
    {
      "cell_type": "markdown",
      "source": [
        "Check which predictions are right"
      ],
      "metadata": {
        "id": "TyBJWrgpuUTw"
      }
    },
    {
      "cell_type": "code",
      "source": [
        "result = np.equal(y_removed, y_test_predict)\n",
        "\n",
        "result = result.all(axis=1)"
      ],
      "metadata": {
        "id": "mBp9-uIuqgLq",
        "colab": {
          "base_uri": "https://localhost:8080/"
        },
        "outputId": "d84edfe2-a2c0-4655-8d34-6b29f58a5639"
      },
      "execution_count": null,
      "outputs": [
        {
          "output_type": "stream",
          "name": "stdout",
          "text": [
            "287232\n"
          ]
        }
      ]
    },
    {
      "cell_type": "code",
      "source": [
        "def find_corr(array_v, array_bool):\n",
        "  numeric_boolean_values = array_bool.astype(int)\n",
        "  pearson_corr, pearson_p_value = pearsonr(array_v, numeric_boolean_values)\n",
        "  spearman_corr, spearman_p_value = spearmanr(array_v, numeric_boolean_values)\n",
        "  return pearson_corr, pearson_p_value, spearman_corr, spearman_p_value"
      ],
      "metadata": {
        "id": "DOHjnf0hYG_8"
      },
      "execution_count": null,
      "outputs": []
    },
    {
      "cell_type": "code",
      "source": [
        "find_corr(percentages, result)"
      ],
      "metadata": {
        "colab": {
          "base_uri": "https://localhost:8080/"
        },
        "id": "wdyk5gTk7Mpw",
        "outputId": "9f19d916-2f58-4fa4-dd0e-216380170aa4"
      },
      "execution_count": null,
      "outputs": [
        {
          "output_type": "execute_result",
          "data": {
            "text/plain": [
              "(-0.010238712825754628,\n",
              " 4.077572806291376e-08,\n",
              " -0.0010379423191156983,\n",
              " 0.5780243499396027)"
            ]
          },
          "metadata": {},
          "execution_count": 59
        }
      ]
    },
    {
      "cell_type": "code",
      "source": [
        "acc_count = [[0,0],[0,0],[0,0],[0,0],[0,0]]\n",
        "for i in range(len(percentages)):\n",
        "  a = percentages[i]\n",
        "  if 80. <= a < 85. :\n",
        "    acc_count[0][0] += 1\n",
        "    if result[i]:\n",
        "      acc_count[0][1] += 1\n",
        "  if 85. <= a < 90. :\n",
        "    acc_count[1][0] += 1\n",
        "    if result[i] :\n",
        "      acc_count[1][1] += 1\n",
        "  if 90. <= a < 95.:\n",
        "    acc_count[2][0] += 1\n",
        "    if result[i] :\n",
        "      acc_count[2][1] += 1\n",
        "  if 95. <= a :\n",
        "    acc_count[3][0] += 1\n",
        "    if result[i]:\n",
        "      acc_count[3][1] += 1\n",
        "  if 75. <= a < 80. :\n",
        "    acc_count[4][0] += 1\n",
        "    if result[i] :\n",
        "      acc_count[4][1] += 1"
      ],
      "metadata": {
        "id": "QAGU8DEFWiII"
      },
      "execution_count": null,
      "outputs": []
    },
    {
      "cell_type": "code",
      "source": [
        "# print(f'Accuracy if percentage is between 75 and 80:{acc_count[4][1]/acc_count[4][0]}')\n",
        "# print(f'Accuracy if percentage is between 80 and 85:{acc_count[0][1]/acc_count[0][0]}')\n",
        "print(f'Accuracy if percentage is between 85 and 90:{acc_count[1][1]/acc_count[1][0]}')\n",
        "print(f'Accuracy if percentage is between 90 and 95:{acc_count[2][1]/acc_count[2][0]}')\n",
        "print(f'Accuracy if percentage is between 95 and 100:{acc_count[3][1]/acc_count[3][0]}')"
      ],
      "metadata": {
        "id": "eeNOaGo0Wj_0",
        "colab": {
          "base_uri": "https://localhost:8080/"
        },
        "outputId": "3e1e14eb-5e76-4274-9254-4a1e86bcedea"
      },
      "execution_count": null,
      "outputs": [
        {
          "output_type": "stream",
          "name": "stdout",
          "text": [
            "Accuracy if percentage is between 85 and 90:1.0\n",
            "Accuracy if percentage is between 90 and 95:0.9423491379310345\n",
            "Accuracy if percentage is between 95 and 100:0.9068919582135596\n"
          ]
        }
      ]
    },
    {
      "cell_type": "code",
      "source": [],
      "metadata": {
        "id": "fFoRshh17TXo"
      },
      "execution_count": null,
      "outputs": []
    }
  ]
}