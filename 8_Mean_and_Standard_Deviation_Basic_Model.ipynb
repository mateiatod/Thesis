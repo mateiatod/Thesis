{
  "nbformat": 4,
  "nbformat_minor": 0,
  "metadata": {
    "colab": {
      "provenance": []
    },
    "kernelspec": {
      "name": "python3",
      "display_name": "Python 3"
    },
    "language_info": {
      "name": "python"
    }
  },
  "cells": [
    {
      "cell_type": "code",
      "execution_count": 1,
      "metadata": {
        "id": "llr_SBwHhvSn"
      },
      "outputs": [],
      "source": [
        "from keras.datasets import mnist\n",
        "from keras.models import Sequential\n",
        "from keras.layers import Dense\n",
        "from keras.callbacks import LambdaCallback\n",
        "from keras import backend as K\n",
        "import keras\n",
        "import numpy as np\n",
        "from keras.datasets import mnist\n",
        "from keras.utils import to_categorical\n",
        "from keras.callbacks import Callback\n",
        "import matplotlib.pyplot as plt\n",
        "from scipy.stats import pearsonr, spearmanr"
      ]
    },
    {
      "cell_type": "code",
      "source": [
        "(X_train, y_train), (X_test, y_test) = mnist.load_data()\n",
        "\n",
        "# ratio of the dataset you wanan use\n",
        "ratio = 1\n",
        "subset_size = int(ratio * len(X_train))\n",
        "X_train = X_train[:subset_size].reshape((subset_size, -1))/255.0\n",
        "y_train = to_categorical(y_train[:subset_size], 10)\n",
        "\n",
        "subset_size = int(ratio * len(X_test))\n",
        "X_test = X_test[:subset_size].reshape((subset_size, -1))/255.0\n",
        "y_test = to_categorical(y_test[:subset_size], 10)\n"
      ],
      "metadata": {
        "id": "QkRd7PIhh_QC",
        "colab": {
          "base_uri": "https://localhost:8080/"
        },
        "outputId": "b11ebf5a-3ff4-40af-bb76-35b4e292060d"
      },
      "execution_count": 2,
      "outputs": [
        {
          "output_type": "stream",
          "name": "stdout",
          "text": [
            "Downloading data from https://storage.googleapis.com/tensorflow/tf-keras-datasets/mnist.npz\n",
            "11490434/11490434 [==============================] - 1s 0us/step\n"
          ]
        }
      ]
    },
    {
      "cell_type": "code",
      "source": [
        "model = Sequential()\n",
        "model.add(Dense(128, activation='relu', input_shape=(784,)))\n",
        "model.add(Dense(128, activation='relu', input_shape=(128,)))\n",
        "model.add(Dense(10, activation='softmax'))\n",
        "\n",
        "model.compile(optimizer='adam', loss='categorical_crossentropy', metrics=['accuracy'])"
      ],
      "metadata": {
        "id": "jpxjfazSiBII"
      },
      "execution_count": 3,
      "outputs": []
    },
    {
      "cell_type": "code",
      "source": [
        "ds_size = 60000  * ratio\n",
        "batchsize_train = 128\n",
        "dense_size = 128\n",
        "n_batches = int(ds_size // batchsize_train)\n",
        "n_epochs = 6\n",
        "n_layers = 2"
      ],
      "metadata": {
        "id": "8Mqq5AiykhNe"
      },
      "execution_count": 4,
      "outputs": []
    },
    {
      "cell_type": "code",
      "source": [
        "shapes = (n_batches, batchsize_train, dense_size)\n",
        "\n",
        "layer_activations = []\n",
        "for _ in range(n_layers):\n",
        "  epochs = []\n",
        "  for i in range(n_epochs):\n",
        "    epochs.append(np.empty(shapes))\n",
        "  layer_activations.append(epochs)\n",
        "model_output = []\n",
        "weights = []\n",
        "\n",
        "class CustomCallback(Callback):\n",
        "    def __init__(self):\n",
        "        super(CustomCallback, self).__init__()\n",
        "        for i in range(n_layers):\n",
        "          model_output.append(model.layers[i].output)\n",
        "        self.ok = False #used for testing\n",
        "\n",
        "    def on_epoch_begin(self, epoch, logs=None):\n",
        "      self.neuron_activations = []\n",
        "      for i in range(n_layers):\n",
        "        self.neuron_activations.append(layer_activations[i][epoch])\n",
        "      if epoch == 0: ## replace 0 with the epoch you wanna test\n",
        "        self.ok = True\n",
        "\n",
        "    def on_batch_begin(self, batch, logs=None):\n",
        "        get_activations = K.function([model.layers[0].input], model_output)\n",
        "        if batch != (n_batches):  # we ignore the last, uncompleted batch so we can have a matrix\n",
        "          get_act = get_activations([X_train[(batch) * batchsize_train: (batch + 1) * batchsize_train]])\n",
        "          for i in range(n_layers):\n",
        "            activations = get_act[i]\n",
        "            self.neuron_activations[i][batch]= np.array(activations)\n",
        "        if batch == 50 and self.ok == True:\n",
        "           weights.append(model.get_weights())\n",
        "           self.ok = False\n",
        "\n",
        "custom_callback = CustomCallback()\n",
        "\n",
        "model.fit(X_train, y_train, epochs=n_epochs, batch_size=batchsize_train, callbacks=[custom_callback])\n"
      ],
      "metadata": {
        "colab": {
          "base_uri": "https://localhost:8080/"
        },
        "id": "jJ3mLLgZiQfY",
        "outputId": "3634bb8d-4b6c-465f-96c0-8deef6348076"
      },
      "execution_count": 5,
      "outputs": [
        {
          "output_type": "stream",
          "name": "stdout",
          "text": [
            "Epoch 1/6\n",
            "  6/469 [..............................] - ETA: 38s - loss: 2.1122 - accuracy: 0.3112"
          ]
        },
        {
          "output_type": "stream",
          "name": "stderr",
          "text": [
            "WARNING:tensorflow:Callback method `on_train_batch_begin` is slow compared to the batch time (batch time: 0.0161s vs `on_train_batch_begin` time: 0.0843s). Check your callbacks.\n"
          ]
        },
        {
          "output_type": "stream",
          "name": "stdout",
          "text": [
            "469/469 [==============================] - 23s 41ms/step - loss: 0.3123 - accuracy: 0.9114\n",
            "Epoch 2/6\n",
            "469/469 [==============================] - 8s 18ms/step - loss: 0.1240 - accuracy: 0.9633\n",
            "Epoch 3/6\n",
            "469/469 [==============================] - 8s 17ms/step - loss: 0.0833 - accuracy: 0.9749\n",
            "Epoch 4/6\n",
            "469/469 [==============================] - 8s 17ms/step - loss: 0.0625 - accuracy: 0.9812\n",
            "Epoch 5/6\n",
            "469/469 [==============================] - 8s 17ms/step - loss: 0.0502 - accuracy: 0.9839\n",
            "Epoch 6/6\n",
            "469/469 [==============================] - 7s 16ms/step - loss: 0.0383 - accuracy: 0.9884\n"
          ]
        },
        {
          "output_type": "execute_result",
          "data": {
            "text/plain": [
              "<keras.src.callbacks.History at 0x7bd5cae598d0>"
            ]
          },
          "metadata": {},
          "execution_count": 5
        }
      ]
    },
    {
      "cell_type": "markdown",
      "source": [
        "Properly arrange list"
      ],
      "metadata": {
        "id": "HgIW3xoldCW6"
      }
    },
    {
      "cell_type": "code",
      "source": [
        "neuron_activations = []\n",
        "for j in range(n_layers):\n",
        "  for i in range(n_epochs):\n",
        "    layer_activations[j][i] = np.reshape(layer_activations[j][i], (n_batches * batchsize_train, dense_size ))\n",
        "    layer_activations[j][i] = layer_activations[j][i].T.reshape((dense_size,-1))\n",
        "  neuron_activations.append(np.hstack(layer_activations[j]))\n"
      ],
      "metadata": {
        "id": "-ERpISfWkVd0"
      },
      "execution_count": 6,
      "outputs": []
    },
    {
      "cell_type": "markdown",
      "source": [
        "Plot histogram of the values an arbitrary neuron has"
      ],
      "metadata": {
        "id": "60qXPy2RmSN3"
      }
    },
    {
      "cell_type": "code",
      "source": [
        "plt.hist(neuron_activations[0][18], bins=20, color='skyblue', edgecolor='black')\n",
        "plt.title('Histogram of Function')\n",
        "plt.xlabel('Function Values')\n",
        "plt.ylabel('Frequency')\n",
        "plt.grid(True)\n",
        "plt.show()"
      ],
      "metadata": {
        "colab": {
          "base_uri": "https://localhost:8080/",
          "height": 472
        },
        "id": "mefyjtl6mRnb",
        "outputId": "2f3d5dd9-602f-4d63-e2aa-f6dfeaf6f284"
      },
      "execution_count": 7,
      "outputs": [
        {
          "output_type": "display_data",
          "data": {
            "text/plain": [
              "<Figure size 640x480 with 1 Axes>"
            ],
            "image/png": "[encoded data removed]"
          },
          "metadata": {}
        }
      ]
    },
    {
      "cell_type": "markdown",
      "source": [
        "We compute the randes according to the mean and standard deviation"
      ],
      "metadata": {
        "id": "DvZh9b4Go_qk"
      }
    },
    {
      "cell_type": "code",
      "source": [
        "x_std = 1.5"
      ],
      "metadata": {
        "id": "NlQbfOzUhrUt"
      },
      "execution_count": 8,
      "outputs": []
    },
    {
      "cell_type": "code",
      "source": [
        "neurons_mstd = np.empty((n_layers, dense_size, 2))\n",
        "for layer_ in range(n_layers):\n",
        "  for neuron_ in range(dense_size):\n",
        "     mean = np.mean(neuron_activations[layer_][neuron_])\n",
        "     std = np.std(neuron_activations[layer_][neuron_])\n",
        "     neurons_mstd[layer_][neuron_][0] = mean - x_std * std\n",
        "     neurons_mstd[layer_][neuron_][1] = mean + x_std * std\n"
      ],
      "metadata": {
        "id": "miFCqofkU_5l"
      },
      "execution_count": 9,
      "outputs": []
    },
    {
      "cell_type": "code",
      "source": [
        "ranges = neurons_mstd"
      ],
      "metadata": {
        "id": "0XQ5yKzyjSpt"
      },
      "execution_count": 10,
      "outputs": []
    },
    {
      "cell_type": "markdown",
      "source": [
        "Get activations from tests"
      ],
      "metadata": {
        "id": "RUQ09B_byBFe"
      }
    },
    {
      "cell_type": "code",
      "source": [
        "get_testing_a = K.function([model.layers[0].input],\n",
        "                                  model_output)\n",
        "get_label_pred = K.function([model.layers[0].input],\n",
        "                                  [model.layers[-1].output])\n",
        "layers_output = get_testing_a([X_test])\n",
        "label_pred = get_label_pred([X_test])[0]"
      ],
      "metadata": {
        "id": "-ooX0CIGe_NC"
      },
      "execution_count": 11,
      "outputs": []
    },
    {
      "cell_type": "code",
      "source": [
        "max_indices = np.argmax(label_pred, axis=1) # having the right label eg 7 or 4\n",
        "y_test_predict = np.zeros((max_indices.size, 10))\n",
        "y_test_predict[np.arange(max_indices.size), max_indices] = 1 # one hot encoded"
      ],
      "metadata": {
        "id": "FzuuVj-pf-Pi"
      },
      "execution_count": 12,
      "outputs": []
    },
    {
      "cell_type": "markdown",
      "source": [
        "Rearrange the list properly"
      ],
      "metadata": {
        "id": "73n_aLIhTmk0"
      }
    },
    {
      "cell_type": "code",
      "source": [
        "layers_output= np.array(layers_output)\n",
        "layers_output = layers_output.transpose(0, 2, 1)"
      ],
      "metadata": {
        "id": "a22r2qzMTlU-"
      },
      "execution_count": 13,
      "outputs": []
    },
    {
      "cell_type": "code",
      "source": [
        "n_images = len(layers_output[0][0])\n",
        "percentages = np.empty(n_images)\n",
        "for i in range(n_images):\n",
        "  count = 0\n",
        "  for layer in range(n_layers):\n",
        "    for neuron in range(dense_size):\n",
        "        if ranges[layer][neuron][0] <= layers_output[layer][neuron][i] <= ranges[layer][neuron][1] :\n",
        "          count +=1\n",
        "  percentages[i] = count / (n_layers * dense_size) * 100"
      ],
      "metadata": {
        "id": "b5cc1lLJkdcG"
      },
      "execution_count": 14,
      "outputs": []
    },
    {
      "cell_type": "code",
      "source": [
        "percentage_count = 0\n",
        "for percentage in percentages:\n",
        "  if percentage == 100.:\n",
        "    percentage_count += 1\n",
        "print(percentage_count)"
      ],
      "metadata": {
        "colab": {
          "base_uri": "https://localhost:8080/"
        },
        "id": "A0Fe_iOF940g",
        "outputId": "7d254f33-979c-4e25-b130-e6a6164688ab"
      },
      "execution_count": 15,
      "outputs": [
        {
          "output_type": "stream",
          "name": "stdout",
          "text": [
            "2\n"
          ]
        }
      ]
    },
    {
      "cell_type": "code",
      "source": [
        "plt.scatter(np.arange(len(percentages)), percentages, color='blue', marker='o')\n",
        "plt.title('Keras Model with relu ')\n",
        "plt.xlabel('Prediction Index')\n",
        "plt.ylabel('Percentage of nodes \"in range\"')\n",
        "plt.grid(True)\n",
        "plt.ylim(0, 105)\n",
        "plt.show()"
      ],
      "metadata": {
        "colab": {
          "base_uri": "https://localhost:8080/",
          "height": 472
        },
        "id": "ReOXYTMAjRmD",
        "outputId": "3c345e92-1863-48de-e9b7-e12f848dd85a"
      },
      "execution_count": 16,
      "outputs": [
        {
          "output_type": "display_data",
          "data": {
            "text/plain": [
              "<Figure size 640x480 with 1 Axes>"
            ],
            "image/png": "[encoded data removed]"
          },
          "metadata": {}
        }
      ]
    },
    {
      "cell_type": "markdown",
      "source": [
        "check which labels are right"
      ],
      "metadata": {
        "id": "TyBJWrgpuUTw"
      }
    },
    {
      "cell_type": "code",
      "source": [
        "result = np.equal(y_test, y_test_predict)\n",
        "\n",
        "result = result.all(axis=1)"
      ],
      "metadata": {
        "id": "mBp9-uIuqgLq"
      },
      "execution_count": 17,
      "outputs": []
    },
    {
      "cell_type": "markdown",
      "source": [
        "Find Correlation"
      ],
      "metadata": {
        "id": "lR69ot3oiArT"
      }
    },
    {
      "cell_type": "code",
      "source": [
        "def find_corr(array_v, array_bool):\n",
        "  numeric_boolean_values = array_bool.astype(int)\n",
        "  pearson_corr, pearson_p_value = pearsonr(array_v, numeric_boolean_values)\n",
        "  spearman_corr, spearman_p_value = spearmanr(array_v, numeric_boolean_values)\n",
        "  return pearson_corr,pearson_p_value, spearman_corr,spearman_p_value"
      ],
      "metadata": {
        "id": "97hW1vcvYWDV"
      },
      "execution_count": 18,
      "outputs": []
    },
    {
      "cell_type": "code",
      "source": [
        "acc_count = [[0,0],[0,0],[0,0],[0,0],[0,0]]\n",
        "for i in range(len(percentages)):\n",
        "  a = percentages[i]\n",
        "  if 80. <= a < 85. :\n",
        "    acc_count[0][0] += 1\n",
        "    if result[i]:\n",
        "      acc_count[0][1] += 1\n",
        "  if 85. <= a < 90. :\n",
        "    acc_count[1][0] += 1\n",
        "    if result[i] :\n",
        "      acc_count[1][1] += 1\n",
        "  if 90. <= a < 95.:\n",
        "    acc_count[2][0] += 1\n",
        "    if result[i] :\n",
        "      acc_count[2][1] += 1\n",
        "  if 95. <= a :\n",
        "    acc_count[3][0] += 1\n",
        "    if result[i]:\n",
        "      acc_count[3][1] += 1\n",
        "  if 75. <= a < 80. :\n",
        "    acc_count[4][0] += 1\n",
        "    if result[i] :\n",
        "      acc_count[4][1] += 1"
      ],
      "metadata": {
        "id": "-Ek_PKeqGAOW"
      },
      "execution_count": 19,
      "outputs": []
    },
    {
      "cell_type": "code",
      "source": [
        "# print(f'Accuracy if percentage is between 75 and 80:{acc_count[4][1]/acc_count[4][0]}')\n",
        "print(f'Accuracy if percentage is between 80 and 85:{acc_count[0][1]/acc_count[0][0]}')\n",
        "print(f'Accuracy if percentage is between 85 and 90:{acc_count[1][1]/acc_count[1][0]}')\n",
        "print(f'Accuracy if percentage is between 90 and 95:{acc_count[2][1]/acc_count[2][0]}')\n",
        "print(f'Accuracy if percentage is between 95 and 100:{acc_count[3][1]/acc_count[3][0]}')"
      ],
      "metadata": {
        "id": "0lY2jbaNG8rI",
        "colab": {
          "base_uri": "https://localhost:8080/"
        },
        "outputId": "a139d78e-8b03-4206-e0dc-95d1129e8c1f"
      },
      "execution_count": 20,
      "outputs": [
        {
          "output_type": "stream",
          "name": "stdout",
          "text": [
            "Accuracy if percentage is between 80 and 85:0.989088925259138\n",
            "Accuracy if percentage is between 85 and 90:0.9829652996845426\n",
            "Accuracy if percentage is between 90 and 95:0.9735494880546075\n",
            "Accuracy if percentage is between 95 and 100:0.9431372549019608\n"
          ]
        }
      ]
    },
    {
      "cell_type": "code",
      "source": [
        "find_corr(percentages, result)"
      ],
      "metadata": {
        "colab": {
          "base_uri": "https://localhost:8080/"
        },
        "id": "7pJ1RhfHiTwE",
        "outputId": "9a214232-409c-491d-9b45-7f9022547b76"
      },
      "execution_count": 21,
      "outputs": [
        {
          "output_type": "execute_result",
          "data": {
            "text/plain": [
              "(-0.07953874088381668,\n",
              " 1.645550551879006e-15,\n",
              " -0.07820068005817317,\n",
              " 4.836797722580879e-15)"
            ]
          },
          "metadata": {},
          "execution_count": 21
        }
      ]
    }
  ]
}