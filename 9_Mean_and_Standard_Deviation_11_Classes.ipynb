{
  "nbformat": 4,
  "nbformat_minor": 0,
  "metadata": {
    "colab": {
      "provenance": []
    },
    "kernelspec": {
      "name": "python3",
      "display_name": "Python 3"
    },
    "language_info": {
      "name": "python"
    }
  },
  "cells": [
    {
      "cell_type": "code",
      "execution_count": null,
      "metadata": {
        "id": "llr_SBwHhvSn",
        "colab": {
          "base_uri": "https://localhost:8080/"
        },
        "outputId": "6aae3590-6bea-46dd-dba4-ca48100d1405"
      },
      "outputs": [
        {
          "output_type": "stream",
          "name": "stdout",
          "text": [
            "Mounted at /content/drive\n"
          ]
        }
      ],
      "source": [
        "from keras.datasets import mnist\n",
        "from keras.models import Sequential\n",
        "from keras.layers import Dense\n",
        "from keras.callbacks import LambdaCallback\n",
        "from keras import backend as K\n",
        "from keras import activations\n",
        "import keras\n",
        "import numpy as np\n",
        "from keras.datasets import mnist\n",
        "from keras.utils import to_categorical\n",
        "from keras.callbacks import Callback\n",
        "from scipy.stats import pearsonr, spearmanr\n",
        "from google.colab import drive\n",
        "import matplotlib.pyplot as plt\n",
        "drive.mount('/content/drive')"
      ]
    },
    {
      "cell_type": "code",
      "source": [
        "# Load arrays from Google Drive\n",
        "X_train = np.load('/content/drive/My Drive/X_train_new.npy')\n",
        "y_train = np.load('/content/drive/My Drive/y_train_new.npy')\n",
        "X_test = np.load('/content/drive/My Drive/X_test_new.npy')\n",
        "y_test = np.load('/content/drive/My Drive/y_test_new.npy')"
      ],
      "metadata": {
        "id": "QkRd7PIhh_QC"
      },
      "execution_count": null,
      "outputs": []
    },
    {
      "cell_type": "code",
      "source": [
        "model = Sequential()\n",
        "model.add(Dense(128, activation='relu', input_shape=(784,)))\n",
        "model.add(Dense(128, activation='relu', input_shape=(128,)))\n",
        "model.add(Dense(11, activation='softmax'))\n",
        "\n",
        "model.compile(optimizer='adam', loss='categorical_crossentropy', metrics=['accuracy'])"
      ],
      "metadata": {
        "id": "jpxjfazSiBII"
      },
      "execution_count": null,
      "outputs": []
    },
    {
      "cell_type": "code",
      "source": [
        "ratio = 1\n",
        "ds_size = len(X_train)  * ratio\n",
        "batchsize_train = 128\n",
        "dense_size = 128\n",
        "n_batches = int(ds_size // batchsize_train)\n",
        "n_epochs = 3\n",
        "n_layers = 2"
      ],
      "metadata": {
        "id": "baGHjNK5lc9m"
      },
      "execution_count": null,
      "outputs": []
    },
    {
      "cell_type": "code",
      "source": [
        "shapes = (n_batches, batchsize_train, dense_size)\n",
        "layer_activations = []\n",
        "for _ in range(n_layers):\n",
        "  epochs = []\n",
        "  for i in range(n_epochs):\n",
        "    epochs.append(np.empty(shapes))\n",
        "  layer_activations.append(epochs)\n",
        "model_output = []\n",
        "weights = []\n",
        "\n",
        "class CustomCallback(Callback):\n",
        "    def __init__(self):\n",
        "        super(CustomCallback, self).__init__()\n",
        "        for i in range(n_layers):\n",
        "          model_output.append(model.layers[i].output)\n",
        "        self.ok = False #used for testing\n",
        "\n",
        "    def on_epoch_begin(self, epoch, logs=None):\n",
        "      self.neuron_activations = []\n",
        "      for i in range(n_layers):\n",
        "        self.neuron_activations.append(layer_activations[i][epoch])\n",
        "      if epoch == 0: ## replace 0 with the epoch you wanna test\n",
        "        self.ok = True\n",
        "\n",
        "    def on_batch_begin(self, batch, logs=None):\n",
        "        get_activations = K.function([model.layers[0].input], model_output)\n",
        "        if batch != (n_batches):  # we ignore the last, uncompleted batch so we can have a matrix\n",
        "          get_act = get_activations([X_train[(batch) * batchsize_train: (batch + 1) * batchsize_train]])\n",
        "          for i in range(n_layers):\n",
        "            activations = get_act[i]\n",
        "            self.neuron_activations[i][batch]= np.array(activations)\n",
        "\n",
        "\n",
        "custom_callback = CustomCallback()\n",
        "\n",
        "model.fit(X_train, y_train, epochs=n_epochs, batch_size=batchsize_train, callbacks=[custom_callback])\n"
      ],
      "metadata": {
        "colab": {
          "base_uri": "https://localhost:8080/"
        },
        "id": "jJ3mLLgZiQfY",
        "outputId": "f9e2fed8-eba2-4195-d114-8b064e33aaf0"
      },
      "execution_count": null,
      "outputs": [
        {
          "output_type": "stream",
          "name": "stdout",
          "text": [
            "Epoch 1/3\n",
            "  5/516 [..............................] - ETA: 7s - loss: 2.1828 - accuracy: 0.2891  "
          ]
        },
        {
          "output_type": "stream",
          "name": "stderr",
          "text": [
            "WARNING:tensorflow:Callback method `on_train_batch_begin` is slow compared to the batch time (batch time: 0.0041s vs `on_train_batch_begin` time: 0.0248s). Check your callbacks.\n"
          ]
        },
        {
          "output_type": "stream",
          "name": "stdout",
          "text": [
            "516/516 [==============================] - 8s 14ms/step - loss: 0.2831 - accuracy: 0.9190\n",
            "Epoch 2/3\n",
            "516/516 [==============================] - 8s 16ms/step - loss: 0.1125 - accuracy: 0.9663\n",
            "Epoch 3/3\n",
            "516/516 [==============================] - 7s 14ms/step - loss: 0.0783 - accuracy: 0.9757\n"
          ]
        },
        {
          "output_type": "execute_result",
          "data": {
            "text/plain": [
              "<keras.src.callbacks.History at 0x7decbc0fd030>"
            ]
          },
          "metadata": {},
          "execution_count": 5
        }
      ]
    },
    {
      "cell_type": "markdown",
      "source": [
        "Properly arrange list"
      ],
      "metadata": {
        "id": "HgIW3xoldCW6"
      }
    },
    {
      "cell_type": "code",
      "source": [
        "neuron_activations = []\n",
        "for j in range(n_layers):\n",
        "  for i in range(n_epochs):\n",
        "    layer_activations[j][i] = np.reshape(layer_activations[j][i], (n_batches * batchsize_train, dense_size ))\n",
        "    layer_activations[j][i] = layer_activations[j][i].T.reshape((dense_size,-1))\n",
        "  neuron_activations.append(np.hstack(layer_activations[j]))\n"
      ],
      "metadata": {
        "id": "-ERpISfWkVd0"
      },
      "execution_count": null,
      "outputs": []
    },
    {
      "cell_type": "markdown",
      "source": [
        "We now compute the ranges of the neurons"
      ],
      "metadata": {
        "id": "DvZh9b4Go_qk"
      }
    },
    {
      "cell_type": "code",
      "source": [
        "x_std = 1.5"
      ],
      "metadata": {
        "id": "-v32kIFMED-3"
      },
      "execution_count": null,
      "outputs": []
    },
    {
      "cell_type": "code",
      "source": [
        "neurons_mstd = np.empty((n_layers, dense_size, 2))\n",
        "for layer_ in range(n_layers):\n",
        "  for neuron_ in range(dense_size):\n",
        "     mean = np.mean(neuron_activations[layer_][neuron_])\n",
        "     std = np.std(neuron_activations[layer_][neuron_])\n",
        "     neurons_mstd[layer_][neuron_][0] = mean - x_std * std\n",
        "     neurons_mstd[layer_][neuron_][1] = mean + x_std * std"
      ],
      "metadata": {
        "id": "OYlHNW3hEEby"
      },
      "execution_count": null,
      "outputs": []
    },
    {
      "cell_type": "code",
      "source": [
        "ranges = neurons_mstd"
      ],
      "metadata": {
        "id": "WCqHTFJPEHNH"
      },
      "execution_count": null,
      "outputs": []
    },
    {
      "cell_type": "markdown",
      "source": [
        "Create random list to get out of range"
      ],
      "metadata": {
        "id": "v4kLH-EPmeBB"
      }
    },
    {
      "cell_type": "code",
      "source": [
        "random_X_test = np.random.choice([-1., 1.], size=(11000, 784), p=[0.5, 0.5])\n",
        "random_X_test += np.random.rand(11000, 784)  # Add random values between 0 and 1"
      ],
      "metadata": {
        "id": "ZRhYfLyImdi2"
      },
      "execution_count": null,
      "outputs": []
    },
    {
      "cell_type": "markdown",
      "source": [
        "Get activations from tests and random tests"
      ],
      "metadata": {
        "id": "RUQ09B_byBFe"
      }
    },
    {
      "cell_type": "code",
      "source": [
        "get_testing_a = K.function([model.layers[0].input],\n",
        "                                  model_output)\n",
        "get_label_pred = K.function([model.layers[0].input],\n",
        "                                  [model.layers[-1].output])\n",
        "layers_output_random = get_testing_a([random_X_test])\n",
        "label_pred_random = get_label_pred([random_X_test])[0]"
      ],
      "metadata": {
        "id": "-ooX0CIGe_NC"
      },
      "execution_count": null,
      "outputs": []
    },
    {
      "cell_type": "code",
      "source": [
        "\n",
        "max_indices = np.argmax(label_pred_random, axis=1) # having the right label eg 7 or 4\n",
        "y_test_predict_random = np.zeros((max_indices.size, 11))\n",
        "y_test_predict_random[np.arange(max_indices.size), max_indices] = 1 # one hot encoded"
      ],
      "metadata": {
        "id": "FzuuVj-pf-Pi"
      },
      "execution_count": null,
      "outputs": []
    },
    {
      "cell_type": "markdown",
      "source": [
        "Find correlation"
      ],
      "metadata": {
        "id": "nHIhgG_jD6fl"
      }
    },
    {
      "cell_type": "code",
      "source": [
        "def find_corr(array_v, array_bool):\n",
        "  numeric_boolean_values = array_bool.astype(int)\n",
        "  pearson_corr, pearson_p_value = pearsonr(array_v, numeric_boolean_values)\n",
        "  spearman_corr, spearman_p_value = spearmanr(array_v, numeric_boolean_values)\n",
        "  return pearson_corr,pearson_p_value, spearman_corr,spearman_p_value"
      ],
      "metadata": {
        "id": "6og5qD47D5zj"
      },
      "execution_count": null,
      "outputs": []
    },
    {
      "cell_type": "markdown",
      "source": [
        "Rearrange the list properly"
      ],
      "metadata": {
        "id": "73n_aLIhTmk0"
      }
    },
    {
      "cell_type": "code",
      "source": [
        "layers_output_random = np.array(layers_output_random)\n",
        "layers_output_random = layers_output_random.transpose(0, 2, 1)"
      ],
      "metadata": {
        "id": "a22r2qzMTlU-"
      },
      "execution_count": null,
      "outputs": []
    },
    {
      "cell_type": "code",
      "source": [
        "n_images = len(layers_output_random[0][0])\n",
        "percentages = np.empty(n_images)\n",
        "for i in range(n_images):\n",
        "  count = 0\n",
        "  for layer in range(n_layers):\n",
        "    for neuron in range(dense_size):\n",
        "        if ranges[layer][neuron][0] <= layers_output_random[layer][neuron][i] <= ranges[layer][neuron][1] :\n",
        "          count +=1\n",
        "  percentages[i] = count / (n_layers * dense_size) * 100"
      ],
      "metadata": {
        "id": "b5cc1lLJkdcG"
      },
      "execution_count": null,
      "outputs": []
    },
    {
      "cell_type": "code",
      "source": [
        "a = np.array([0., 0., 0., 0., 0., 0., 0., 0., 0., 0., 1.])"
      ],
      "metadata": {
        "id": "xiCPFg3vbhN1"
      },
      "execution_count": null,
      "outputs": []
    },
    {
      "cell_type": "markdown",
      "source": [
        "Check which predictions are right for the NonImage input"
      ],
      "metadata": {
        "id": "TyBJWrgpuUTw"
      }
    },
    {
      "cell_type": "code",
      "source": [
        "c = 0\n",
        "for element in y_test_predict_random:\n",
        "  if np.array_equal(element,a):\n",
        "    c += 1\n",
        "print(c)"
      ],
      "metadata": {
        "colab": {
          "base_uri": "https://localhost:8080/"
        },
        "id": "RXIng4YS9CGH",
        "outputId": "be5ad1ae-a434-4fb1-9199-60b157e19133"
      },
      "execution_count": null,
      "outputs": [
        {
          "output_type": "stream",
          "name": "stdout",
          "text": [
            "9812\n"
          ]
        }
      ]
    },
    {
      "cell_type": "code",
      "source": [
        "a = np.array([0., 0., 0., 0., 0., 0., 0., 0., 0., 0., 1.])\n"
      ],
      "metadata": {
        "id": "oS7YQrtqEdgs"
      },
      "execution_count": null,
      "outputs": []
    },
    {
      "cell_type": "code",
      "source": [
        "correct_answers = np.tile(a, (11000, 1))\n"
      ],
      "metadata": {
        "id": "yILmwtTOEkl3"
      },
      "execution_count": null,
      "outputs": []
    },
    {
      "cell_type": "code",
      "source": [
        "result_rand = np.equal(correct_answers, y_test_predict_random)\n",
        "\n",
        "result_rand = result_rand.all(axis=1)"
      ],
      "metadata": {
        "id": "EYDOJD3nhnKr"
      },
      "execution_count": null,
      "outputs": []
    },
    {
      "cell_type": "code",
      "source": [
        "plt.scatter(np.arange(len(percentages)), percentages, color='blue', marker='o')\n",
        "plt.title('Keras Model with sigmoid and 11 classes | Non-image test')\n",
        "plt.xlabel('Prediction Index')\n",
        "plt.ylabel('Percentage of nodes \"in range\"')\n",
        "plt.grid(True)\n",
        "plt.ylim(0, 105)\n",
        "plt.show()"
      ],
      "metadata": {
        "colab": {
          "base_uri": "https://localhost:8080/"
        },
        "id": "hlaq52fWHW-g",
        "outputId": "4bfc16cc-2635-4349-ea3b-60a351bd837d"
      },
      "execution_count": null,
      "outputs": [
        {
          "output_type": "display_data",
          "data": {
            "text/plain": [
              "<Figure size 640x480 with 1 Axes>"
            ],
            "image/png": "[encoded data removed]"
          },
          "metadata": {}
        }
      ]
    },
    {
      "cell_type": "code",
      "source": [
        "acc_count_rand= [[0,0],[0,0],[0,0],[0,0],[0,0],[0,0],[0,0],[0,0]]\n",
        "for i in range(len(percentages)):\n",
        "  a = percentages[i]\n",
        "  if 80. <= a < 85. :\n",
        "    acc_count_rand[0][0] += 1\n",
        "    if result_rand[i]:\n",
        "      acc_count_rand[0][1] += 1\n",
        "  if 85. <= a < 90. :\n",
        "    acc_count_rand[1][0] += 1\n",
        "    if result_rand[i] :\n",
        "      acc_count_rand[1][1] += 1\n",
        "  if 90. <= a < 95.:\n",
        "    acc_count_rand[2][0] += 1\n",
        "    if result_rand[i] :\n",
        "      acc_count_rand[2][1] += 1\n",
        "  if 95. <= a :\n",
        "    acc_count_rand[3][0] += 1\n",
        "    if result_rand[i]:\n",
        "      acc_count_rand[3][1] += 1\n",
        "  if 75. <= a < 80. :\n",
        "    acc_count_rand[4][0] += 1\n",
        "    if result_rand[i] :\n",
        "      acc_count_rand[4][1] += 1\n",
        "  if 70. <= a < 75. :\n",
        "    acc_count_rand[5][0] += 1\n",
        "    if result_rand[i] :\n",
        "      acc_count_rand[5][1] += 1\n",
        "  if 65. <= a < 70. :\n",
        "    acc_count_rand[6][0] += 1\n",
        "    if result_rand[i] :\n",
        "      acc_count_rand[6][1] += 1\n",
        "  if 60. <= a < 65. :\n",
        "    acc_count_rand[7][0] += 1\n",
        "    if result_rand[i] :\n",
        "      acc_count_rand[7][1] += 1"
      ],
      "metadata": {
        "id": "krXQoioJqgOy"
      },
      "execution_count": null,
      "outputs": []
    },
    {
      "cell_type": "code",
      "source": [
        "a,b,c,d = find_corr(percentages, result_rand)"
      ],
      "metadata": {
        "id": "MFghqSpUqc2q"
      },
      "execution_count": null,
      "outputs": []
    },
    {
      "cell_type": "code",
      "source": [
        "print(f'Accuracy if percentage is between 60 and 65:{acc_count_rand[7][1]/acc_count_rand[7][0]}')\n",
        "print(f'Accuracy if percentage is between 65 and 70:{acc_count_rand[6][1]/acc_count_rand[6][0]}')\n",
        "print(f'Accuracy if percentage is between 70 and 75:{acc_count_rand[5][1]/acc_count_rand[5][0]}')\n",
        "print(f'Accuracy if percentage is between 75 and 80:{acc_count_rand[4][1]/acc_count_rand[4][0]}')\n",
        "print(f'Accuracy if percentage is between 80 and 85:{acc_count_rand[0][1]/acc_count_rand[0][0]}')\n",
        "# print(f'Accuracy if percentage is between 85 and 90:{acc_count_rand[1][1]/acc_count_rand[1][0]}')\n",
        "# print(f'Accuracy if percentage is between 90 and 95:{acc_count_rand[2][1]/acc_count_rand[2][0]}')\n",
        "# print(f'Accuracy if percentage is between 95 and 100:{acc_count_rand[3][1]/acc_count_rand[3][0]}')\n",
        "print(f'Pearson correlation: {a} and p-value:{b}')\n",
        "print(f'Spearman correlation: {c} and p-value:{d}')"
      ],
      "metadata": {
        "colab": {
          "base_uri": "https://localhost:8080/"
        },
        "id": "cgQFI_-FqgmV",
        "outputId": "9913550b-aa9a-4b69-ce9f-e8e0e309e266"
      },
      "execution_count": null,
      "outputs": [
        {
          "output_type": "stream",
          "name": "stdout",
          "text": [
            "Accuracy if percentage is between 60 and 65:0.8613138686131386\n",
            "Accuracy if percentage is between 65 and 70:0.9081999346618752\n",
            "Accuracy if percentage is between 70 and 75:0.8937784522003035\n",
            "Accuracy if percentage is between 75 and 80:0.8785620341955283\n",
            "Accuracy if percentage is between 80 and 85:0.8075313807531381\n",
            "Pearson correlation: -0.056450081139005785 and p-value:3.13085315270183e-09\n",
            "Spearman correlation: -0.05247412944283438 and p-value:3.6561944182598435e-08\n"
          ]
        }
      ]
    },
    {
      "cell_type": "markdown",
      "source": [
        "Now we check the Image input"
      ],
      "metadata": {
        "id": "eULxKsuHRX4T"
      }
    },
    {
      "cell_type": "code",
      "source": [
        "layers_output = get_testing_a([X_test])\n",
        "label_pred = get_label_pred([X_test])[0]"
      ],
      "metadata": {
        "id": "kHJpB7TsdQ-s"
      },
      "execution_count": null,
      "outputs": []
    },
    {
      "cell_type": "code",
      "source": [
        "max_indices = np.argmax(label_pred, axis=1) # having the right label eg 7 or 4\n",
        "y_test_predict = np.zeros((max_indices.size, 11))\n",
        "y_test_predict[np.arange(max_indices.size), max_indices] = 1 # one hot encoded"
      ],
      "metadata": {
        "id": "z4T29ME7dXmO"
      },
      "execution_count": null,
      "outputs": []
    },
    {
      "cell_type": "code",
      "source": [
        "layers_output= np.array(layers_output)\n",
        "layers_output = layers_output.transpose(0, 2, 1)"
      ],
      "metadata": {
        "id": "J7FCslXkddVn"
      },
      "execution_count": null,
      "outputs": []
    },
    {
      "cell_type": "code",
      "source": [
        "n_images = len(layers_output[0][0])\n",
        "percentages = np.empty(n_images)\n",
        "for i in range(n_images):\n",
        "  count = 0\n",
        "  for layer in range(n_layers):\n",
        "    for neuron in range(dense_size):\n",
        "        if ranges[layer][neuron][0] <= layers_output[layer][neuron][i] <= ranges[layer][neuron][1] :\n",
        "          count +=1\n",
        "  percentages[i] = count / (n_layers * dense_size) * 100"
      ],
      "metadata": {
        "id": "Llk2bgSsdegC"
      },
      "execution_count": null,
      "outputs": []
    },
    {
      "cell_type": "code",
      "source": [
        "k = 0\n",
        "for element in y_test_predict_random:\n",
        "  if np.array_equal(element,a):\n",
        "    k += 1\n",
        "print(k)"
      ],
      "metadata": {
        "colab": {
          "base_uri": "https://localhost:8080/"
        },
        "id": "S6pg9yF0eBma",
        "outputId": "6cfecfd3-3596-4f41-aecb-8390fcd243c6"
      },
      "execution_count": null,
      "outputs": [
        {
          "output_type": "stream",
          "name": "stdout",
          "text": [
            "0\n"
          ]
        }
      ]
    },
    {
      "cell_type": "code",
      "source": [
        "equality_list = np.equal(y_test_predict, y_test).all(axis=1)"
      ],
      "metadata": {
        "id": "lgGZbj1Dhkpr"
      },
      "execution_count": null,
      "outputs": []
    },
    {
      "cell_type": "code",
      "source": [
        "plt.scatter(np.arange(len(percentages)), percentages, color='blue', marker='o')\n",
        "plt.title('Keras Model with sigmoid 11 classes | 11 class test')\n",
        "plt.xlabel('Prediction Index')\n",
        "plt.ylabel('Percentage of nodes \"in range\"')\n",
        "plt.grid(True)\n",
        "plt.ylim(65, 105)\n",
        "plt.show()"
      ],
      "metadata": {
        "colab": {
          "base_uri": "https://localhost:8080/"
        },
        "id": "jwv3pBNXJC6H",
        "outputId": "fcc07edd-4135-4451-df59-97bec0aff4ca"
      },
      "execution_count": null,
      "outputs": [
        {
          "output_type": "display_data",
          "data": {
            "text/plain": [
              "<Figure size 640x480 with 1 Axes>"
            ],
            "image/png": "[encoded data removed]"
          },
          "metadata": {}
        }
      ]
    },
    {
      "cell_type": "code",
      "source": [
        "result = np.equal(y_test, y_test_predict)\n",
        "\n",
        "result = result.all(axis=1)"
      ],
      "metadata": {
        "id": "oLR6ZBLihwmI"
      },
      "execution_count": null,
      "outputs": []
    },
    {
      "cell_type": "code",
      "source": [
        "acc_count = [[0,0],[0,0],[0,0],[0,0],[0,0],[0,0]]\n",
        "for i in range(len(percentages)):\n",
        "  a = percentages[i]\n",
        "  if 80. <= a < 85. :\n",
        "    acc_count[0][0] += 1\n",
        "    if result[i]:\n",
        "      acc_count[0][1] += 1\n",
        "  if 85. <= a < 90. :\n",
        "    acc_count[1][0] += 1\n",
        "    if result[i] :\n",
        "      acc_count[1][1] += 1\n",
        "  if 90. <= a < 95.:\n",
        "    acc_count[2][0] += 1\n",
        "    if result[i] :\n",
        "      acc_count[2][1] += 1\n",
        "  if 95. <= a :\n",
        "    acc_count[3][0] += 1\n",
        "    if result[i]:\n",
        "      acc_count[3][1] += 1\n",
        "  if 75. <= a < 80. :\n",
        "    acc_count[4][0] += 1\n",
        "    if result[i] :\n",
        "      acc_count[4][1] += 1\n",
        "  if 70. <= a < 75. :\n",
        "    acc_count[5][0] += 1\n",
        "    if result[i] :\n",
        "      acc_count[5][1] += 1"
      ],
      "metadata": {
        "id": "mmkBJMtOtGlP"
      },
      "execution_count": null,
      "outputs": []
    },
    {
      "cell_type": "code",
      "source": [
        "a,b,c,d = find_corr(percentages,result)"
      ],
      "metadata": {
        "id": "GLfW8q6dExBu"
      },
      "execution_count": null,
      "outputs": []
    },
    {
      "cell_type": "code",
      "source": [
        "np.sum(result)/len(result)"
      ],
      "metadata": {
        "colab": {
          "base_uri": "https://localhost:8080/"
        },
        "id": "CkgQN5FWkfB_",
        "outputId": "9f69b636-71a4-49be-a56c-182d23facac1"
      },
      "execution_count": null,
      "outputs": [
        {
          "output_type": "execute_result",
          "data": {
            "text/plain": [
              "0.9697272727272728"
            ]
          },
          "metadata": {},
          "execution_count": 35
        }
      ]
    },
    {
      "cell_type": "code",
      "source": [
        "# print(f'Accuracy if percentage is between 70 and 75:{acc_count[5][1]/acc_count[5][0]}')\n",
        "print(f'Accuracy if percentage is between 75 and 80:{acc_count[4][1]/acc_count[4][0]}')\n",
        "print(f'Accuracy if percentage is between 80 and 85:{acc_count[0][1]/acc_count[0][0]}')\n",
        "print(f'Accuracy if percentage is between 85 and 90:{acc_count[1][1]/acc_count[1][0]}')\n",
        "print(f'Accuracy if percentage is between 90 and 95:{acc_count[2][1]/acc_count[2][0]}')\n",
        "print(f'Accuracy if percentage is between 95 and 100:{acc_count[3][1]/acc_count[3][0]}')\n",
        "print(f'Pearson correlation: {a} and p-value:{b}')\n",
        "print(f'Spearman correlation: {c} and p-value:{d}')"
      ],
      "metadata": {
        "colab": {
          "base_uri": "https://localhost:8080/"
        },
        "id": "CZaRDOPpsDQk",
        "outputId": "23296c5a-c22c-421a-dcbf-472a0e7f0d2f"
      },
      "execution_count": null,
      "outputs": [
        {
          "output_type": "stream",
          "name": "stdout",
          "text": [
            "Accuracy if percentage is between 75 and 80:1.0\n",
            "Accuracy if percentage is between 80 and 85:0.9926778242677824\n",
            "Accuracy if percentage is between 85 and 90:0.979236641221374\n",
            "Accuracy if percentage is between 90 and 95:0.9654761904761905\n",
            "Accuracy if percentage is between 95 and 100:0.9225496915695682\n",
            "Pearson correlation: -0.11387764767283451 and p-value:4.457002066653611e-33\n",
            "Spearman correlation: -0.1233169222109132 and p-value:1.5540790329646283e-38\n"
          ]
        }
      ]
    }
  ]
}