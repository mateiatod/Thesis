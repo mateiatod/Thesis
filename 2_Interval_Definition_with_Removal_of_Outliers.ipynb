{
  "cells": [
    {
      "cell_type": "code",
      "execution_count": null,
      "metadata": {
        "id": "llr_SBwHhvSn"
      },
      "outputs": [],
      "source": [
        "from keras.datasets import mnist\n",
        "from keras.models import Sequential\n",
        "from keras.layers import Dense\n",
        "from keras.callbacks import LambdaCallback\n",
        "from keras import backend as K\n",
        "import keras\n",
        "import numpy as np\n",
        "from keras.datasets import mnist\n",
        "from keras.utils import to_categorical\n",
        "from keras.callbacks import Callback\n",
        "from scipy.stats import pearsonr, spearmanr\n",
        "import matplotlib.pyplot as plt"
      ]
    },
    {
      "cell_type": "code",
      "execution_count": null,
      "metadata": {
        "colab": {
          "base_uri": "https://localhost:8080/"
        },
        "id": "QkRd7PIhh_QC",
        "outputId": "ce26ddf6-2b6e-4f62-d288-116a786f98fa"
      },
      "outputs": [
        {
          "output_type": "stream",
          "name": "stdout",
          "text": [
            "Downloading data from https://storage.googleapis.com/tensorflow/tf-keras-datasets/mnist.npz\n",
            "11490434/11490434 [==============================] - 0s 0us/step\n"
          ]
        }
      ],
      "source": [
        "(X_train, y_train), (X_test, y_test) = mnist.load_data()\n",
        "\n",
        "# ratio of the dataset you wanan use\n",
        "ratio = 1\n",
        "subset_size = int(ratio * len(X_train))\n",
        "X_train = X_train[:subset_size].reshape((subset_size, -1))/255.0\n",
        "y_train = to_categorical(y_train[:subset_size], 10)\n",
        "\n",
        "subset_size = int(ratio * len(X_test))\n",
        "X_test = X_test[:subset_size].reshape((subset_size, -1))/255.0\n",
        "y_test = to_categorical(y_test[:subset_size], 10)\n"
      ]
    },
    {
      "cell_type": "code",
      "execution_count": null,
      "metadata": {
        "id": "jpxjfazSiBII"
      },
      "outputs": [],
      "source": [
        "model = Sequential()\n",
        "model.add(Dense(128, activation='relu', input_shape=(784,)))\n",
        "model.add(Dense(128, activation='relu', input_shape=(128,)))\n",
        "model.add(Dense(10, activation='softmax'))\n",
        "\n",
        "model.compile(optimizer='adam', loss='categorical_crossentropy', metrics=['accuracy'])"
      ]
    },
    {
      "cell_type": "code",
      "source": [
        "ds_size = 60000  * ratio\n",
        "batchsize_train = 128\n",
        "dense_size = 128\n",
        "n_batches = int(ds_size // batchsize_train)\n",
        "n_epochs = 6\n",
        "n_layers = 2"
      ],
      "metadata": {
        "id": "ZVOJzM0EZ91A"
      },
      "execution_count": null,
      "outputs": []
    },
    {
      "cell_type": "code",
      "execution_count": null,
      "metadata": {
        "colab": {
          "base_uri": "https://localhost:8080/"
        },
        "id": "jJ3mLLgZiQfY",
        "outputId": "1ab42876-0bf9-404a-8610-c0e2a1725a02"
      },
      "outputs": [
        {
          "output_type": "stream",
          "name": "stdout",
          "text": [
            "Epoch 1/6\n",
            "  5/469 [..............................] - ETA: 15s - loss: 2.1938 - accuracy: 0.2344"
          ]
        },
        {
          "output_type": "stream",
          "name": "stderr",
          "text": [
            "WARNING:tensorflow:Callback method `on_train_batch_begin` is slow compared to the batch time (batch time: 0.0128s vs `on_train_batch_begin` time: 0.0489s). Check your callbacks.\n"
          ]
        },
        {
          "output_type": "stream",
          "name": "stdout",
          "text": [
            "469/469 [==============================] - 25s 47ms/step - loss: 0.3087 - accuracy: 0.9123\n",
            "Epoch 2/6\n",
            "469/469 [==============================] - 9s 20ms/step - loss: 0.1224 - accuracy: 0.9637\n",
            "Epoch 3/6\n",
            "469/469 [==============================] - 7s 15ms/step - loss: 0.0844 - accuracy: 0.9745\n",
            "Epoch 4/6\n",
            "469/469 [==============================] - 6s 14ms/step - loss: 0.0624 - accuracy: 0.9812\n",
            "Epoch 5/6\n",
            "469/469 [==============================] - 7s 16ms/step - loss: 0.0494 - accuracy: 0.9846\n",
            "Epoch 6/6\n",
            "469/469 [==============================] - 6s 13ms/step - loss: 0.0383 - accuracy: 0.9880\n"
          ]
        },
        {
          "output_type": "execute_result",
          "data": {
            "text/plain": [
              "<keras.src.callbacks.History at 0x7d6edbaab370>"
            ]
          },
          "metadata": {},
          "execution_count": 5
        }
      ],
      "source": [
        "shapes = (n_batches, batchsize_train, dense_size)\n",
        "\n",
        "layer_activations = []\n",
        "for _ in range(n_layers):\n",
        "  epochs = []\n",
        "  for i in range(n_epochs):\n",
        "    epochs.append(np.empty(shapes))\n",
        "  layer_activations.append(epochs)\n",
        "model_output = []\n",
        "weights = []\n",
        "\n",
        "class CustomCallback(Callback):\n",
        "    def __init__(self):\n",
        "        super(CustomCallback, self).__init__()\n",
        "        for i in range(n_layers):\n",
        "          model_output.append(model.layers[i].output)\n",
        "        self.ok = False #used for testing\n",
        "\n",
        "    def on_epoch_begin(self, epoch, logs=None):\n",
        "      self.neuron_activations = []\n",
        "      for i in range(n_layers):\n",
        "        self.neuron_activations.append(layer_activations[i][epoch])\n",
        "      if epoch == 0: ## replace 0 with the epoch you wanna test\n",
        "        self.ok = True\n",
        "\n",
        "    def on_batch_begin(self, batch, logs=None):\n",
        "        get_activations = K.function([model.layers[0].input], model_output)\n",
        "        if batch != (n_batches):  # we ignore the last, uncompleted batch so we can have a matrix\n",
        "          get_act = get_activations([X_train[(batch) * batchsize_train: (batch + 1) * batchsize_train]])\n",
        "          for i in range(n_layers):\n",
        "            activations = get_act[i]\n",
        "            self.neuron_activations[i][batch]= np.array(activations)\n",
        "        if batch == 50 and self.ok == True:\n",
        "           weights.append(model.get_weights())\n",
        "           self.ok = False\n",
        "\n",
        "custom_callback = CustomCallback()\n",
        "\n",
        "model.fit(X_train, y_train, epochs=n_epochs, batch_size=batchsize_train, callbacks=[custom_callback])\n"
      ]
    },
    {
      "cell_type": "markdown",
      "metadata": {
        "id": "HgIW3xoldCW6"
      },
      "source": [
        "Properly arrange list"
      ]
    },
    {
      "cell_type": "code",
      "execution_count": null,
      "metadata": {
        "id": "-ERpISfWkVd0"
      },
      "outputs": [],
      "source": [
        "neuron_activations = []\n",
        "for j in range(n_layers):\n",
        "  for i in range(n_epochs):\n",
        "    layer_activations[j][i] = np.reshape(layer_activations[j][i], (n_batches * batchsize_train, dense_size ))\n",
        "    layer_activations[j][i] = layer_activations[j][i].T.reshape((dense_size,-1))\n",
        "  neuron_activations.append(np.hstack(layer_activations[j]))\n"
      ]
    },
    {
      "cell_type": "markdown",
      "metadata": {
        "id": "wCRm8HPf46jP"
      },
      "source": [
        "Remove top and bottom 5%\n"
      ]
    },
    {
      "cell_type": "code",
      "execution_count": null,
      "metadata": {
        "id": "DoALksSeIFip"
      },
      "outputs": [],
      "source": [
        "ammount_removed = 0.025"
      ]
    },
    {
      "cell_type": "code",
      "execution_count": null,
      "metadata": {
        "id": "0Z7WnNvm4-Lw"
      },
      "outputs": [],
      "source": [
        "remove_count = int(len(neuron_activations[0][0]) * ammount_removed)\n",
        "neuron_activations_no_outliers = np.empty((2,128, (len(neuron_activations[0][0]) - 2 * remove_count)))\n",
        "for layer_ in range(n_layers):\n",
        "  for neuron_ in range(dense_size):\n",
        "    sorted_indices = np.argsort(neuron_activations[layer_][neuron_])\n",
        "    top_indices = sorted_indices[-remove_count:]\n",
        "    bottom_indices = sorted_indices[:remove_count]\n",
        "    trimmed = np.delete(neuron_activations[layer_][neuron_], np.concatenate((top_indices, bottom_indices)))\n",
        "    neuron_activations_no_outliers[layer_][neuron_] = trimmed"
      ]
    },
    {
      "cell_type": "code",
      "execution_count": null,
      "metadata": {
        "id": "ey0tx53xDTus"
      },
      "outputs": [],
      "source": [
        "neuron_activations = neuron_activations_no_outliers"
      ]
    },
    {
      "cell_type": "markdown",
      "metadata": {
        "id": "DvZh9b4Go_qk"
      },
      "source": [
        "We now compute the ranges of the neurons"
      ]
    },
    {
      "cell_type": "code",
      "execution_count": null,
      "metadata": {
        "id": "miFCqofkU_5l"
      },
      "outputs": [],
      "source": [
        "ranges = np.empty((n_layers,dense_size,2))\n",
        "for layer in range(n_layers):\n",
        "  for i in range(dense_size):\n",
        "    ranges[layer][i][0] = np.min(neuron_activations[layer][i])\n",
        "    ranges[layer][i][1] = np.max(neuron_activations[layer][i])"
      ]
    },
    {
      "cell_type": "markdown",
      "metadata": {
        "id": "RUQ09B_byBFe"
      },
      "source": [
        "Get activations from tests"
      ]
    },
    {
      "cell_type": "code",
      "execution_count": null,
      "metadata": {
        "id": "-ooX0CIGe_NC"
      },
      "outputs": [],
      "source": [
        "get_testing_a = K.function([model.layers[0].input],\n",
        "                                  model_output)\n",
        "get_label_pred = K.function([model.layers[0].input],\n",
        "                                  [model.layers[-1].output])\n",
        "layers_output = get_testing_a([X_test])\n",
        "label_pred = get_label_pred([X_test])[0]"
      ]
    },
    {
      "cell_type": "code",
      "execution_count": null,
      "metadata": {
        "id": "FzuuVj-pf-Pi"
      },
      "outputs": [],
      "source": [
        "\n",
        "max_indices = np.argmax(label_pred, axis=1)\n",
        "y_test_predict = np.zeros((max_indices.size, 10))\n",
        "y_test_predict[np.arange(max_indices.size), max_indices] = 1 # one hot encoded"
      ]
    },
    {
      "cell_type": "markdown",
      "metadata": {
        "id": "73n_aLIhTmk0"
      },
      "source": [
        "Rearrange the list properly"
      ]
    },
    {
      "cell_type": "code",
      "execution_count": null,
      "metadata": {
        "id": "a22r2qzMTlU-"
      },
      "outputs": [],
      "source": [
        "layers_output= np.array(layers_output)\n",
        "layers_output = layers_output.transpose(0, 2, 1)"
      ]
    },
    {
      "cell_type": "code",
      "execution_count": null,
      "metadata": {
        "id": "b5cc1lLJkdcG"
      },
      "outputs": [],
      "source": [
        "n_images = len(layers_output[0][0])\n",
        "percentages = np.empty(n_images)\n",
        "for i in range(n_images):\n",
        "  count = 0\n",
        "  for layer in range(n_layers):\n",
        "    for neuron in range(dense_size):\n",
        "        if ranges[layer][neuron][0] <= layers_output[layer][neuron][i] <= ranges[layer][neuron][1] :\n",
        "          count +=1\n",
        "  percentages[i] = count / (n_layers * dense_size) * 100"
      ]
    },
    {
      "cell_type": "code",
      "execution_count": null,
      "metadata": {
        "colab": {
          "base_uri": "https://localhost:8080/"
        },
        "id": "NmWyboAtDdW7",
        "outputId": "fc9f231b-41d2-401e-b1cd-3e8ac0f02c5c"
      },
      "outputs": [
        {
          "output_type": "display_data",
          "data": {
            "text/plain": [
              "<Figure size 640x480 with 1 Axes>"
            ],
            "image/png": "[encoded data removed]"
          },
          "metadata": {}
        }
      ],
      "source": [
        "plt.scatter(np.arange(len(percentages)), percentages, color='blue', marker='o')\n",
        "plt.title('Keras Model with sigmoid ignore first 5%')\n",
        "plt.xlabel('Prediction Index')\n",
        "plt.ylabel('Percentage of nodes \"in range\"')\n",
        "plt.grid(True)\n",
        "plt.ylim(60, 105)\n",
        "plt.show()"
      ]
    },
    {
      "cell_type": "code",
      "execution_count": null,
      "metadata": {
        "id": "4wXqqx6fEEXu"
      },
      "outputs": [],
      "source": [
        "def find_corr(array_v, array_bool):\n",
        "  numeric_boolean_values = array_bool.astype(int)\n",
        "  pearson_corr, pearson_p_value = pearsonr(array_v, numeric_boolean_values)\n",
        "  spearman_corr, spearman_p_value = spearmanr(array_v, numeric_boolean_values)\n",
        "  return pearson_corr, pearson_p_value, spearman_corr, spearman_p_value"
      ]
    },
    {
      "cell_type": "markdown",
      "metadata": {
        "id": "TyBJWrgpuUTw"
      },
      "source": [
        "Check which predictions are right"
      ]
    },
    {
      "cell_type": "code",
      "execution_count": null,
      "metadata": {
        "id": "H1Sx5BCuEMTR"
      },
      "outputs": [],
      "source": [
        "result = np.equal(y_test, y_test_predict)\n",
        "\n",
        "result = result.all(axis=1)"
      ]
    },
    {
      "cell_type": "markdown",
      "source": [
        "Compute Correlation and Accuracy"
      ],
      "metadata": {
        "id": "ViPpc8HabDX7"
      }
    },
    {
      "cell_type": "code",
      "execution_count": null,
      "metadata": {
        "colab": {
          "base_uri": "https://localhost:8080/"
        },
        "id": "LOGbhCLOE4Ih",
        "outputId": "95c5bb1d-7289-44ca-c178-8ae014ff1df4"
      },
      "outputs": [
        {
          "output_type": "execute_result",
          "data": {
            "text/plain": [
              "(-0.05205869271856228,\n",
              " 1.9011666400870245e-07,\n",
              " -0.05363271481833214,\n",
              " 8.029547402952249e-08)"
            ]
          },
          "metadata": {},
          "execution_count": 19
        }
      ],
      "source": [
        "find_corr(percentages, result)"
      ]
    },
    {
      "cell_type": "code",
      "execution_count": null,
      "metadata": {
        "id": "-Ek_PKeqGAOW"
      },
      "outputs": [],
      "source": [
        "acc_count = [[0,0],[0,0],[0,0],[0,0]]\n",
        "for i in range(len(percentages)):\n",
        "  a = percentages[i]\n",
        "  if 80. <= a < 85. :\n",
        "    acc_count[0][0] += 1\n",
        "    if result[i]:\n",
        "      acc_count[0][1] += 1\n",
        "  if 85. <= a < 90. :\n",
        "    acc_count[1][0] += 1\n",
        "    if result[i] :\n",
        "      acc_count[1][1] += 1\n",
        "  if 90. <= a < 95.:\n",
        "    acc_count[2][0] += 1\n",
        "    if result[i] :\n",
        "      acc_count[2][1] += 1\n",
        "  if 95. <= a :\n",
        "    acc_count[3][0] += 1\n",
        "    if result[i]:\n",
        "      acc_count[3][1] += 1"
      ]
    },
    {
      "cell_type": "code",
      "execution_count": null,
      "metadata": {
        "colab": {
          "base_uri": "https://localhost:8080/"
        },
        "id": "0lY2jbaNG8rI",
        "outputId": "eefb7ed5-a036-467a-fe13-99b7faa5b439"
      },
      "outputs": [
        {
          "output_type": "stream",
          "name": "stdout",
          "text": [
            "Accuracy if percentage is between 80 and 85:1.0\n",
            "Accuracy if percentage is between 85 and 90:0.9894578313253012\n",
            "Accuracy if percentage is between 90 and 95:0.9778830963665087\n",
            "Accuracy if percentage is between 95 and 100:0.9711725168035847\n"
          ]
        }
      ],
      "source": [
        "print(f'Accuracy if percentage is between 80 and 85:{acc_count[0][1]/acc_count[0][0]}')\n",
        "print(f'Accuracy if percentage is between 85 and 90:{acc_count[1][1]/acc_count[1][0]}')\n",
        "print(f'Accuracy if percentage is between 90 and 95:{acc_count[2][1]/acc_count[2][0]}')\n",
        "print(f'Accuracy if percentage is between 95 and 100:{acc_count[3][1]/acc_count[3][0]}')"
      ]
    }
  ],
  "metadata": {
    "colab": {
      "provenance": []
    },
    "kernelspec": {
      "display_name": "Python 3",
      "name": "python3"
    },
    "language_info": {
      "name": "python"
    }
  },
  "nbformat": 4,
  "nbformat_minor": 0
}